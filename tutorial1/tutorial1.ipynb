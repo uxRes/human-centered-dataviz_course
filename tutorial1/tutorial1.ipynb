{
 "cells": [
  {
   "cell_type": "markdown",
   "metadata": {
    "button": false,
    "colab_type": "text",
    "id": "YETb0LFvlyxW",
    "new_sheet": false,
    "run_control": {
     "read_only": false
    }
   },
   "source": [
    "**Data Visualization course - winter semester 2023/24 - FU Berlin**\n",
    "\n",
    "*Tutorials adapted from the [Information Visualization](https://infovis.fh-potsdam.de/tutorials/) course at the FH Potsdam*\n",
    "\n",
    "# Tutorial 1: Getting started\n",
    "\n",
    "During the tutorials you will be reading and writing **Python** code in **Jupyter** notebooks.\n",
    "Phew… Let's unpack this a bit!\n",
    "\n",
    "* 🐍 [Python](https://www.python.org) is a programming language that has gained considerable traction over the last years, in various contexts, including data science and the digital humanities. If you have never written any Python before, it would be useful for you to familiarize yourself with the language, its basic constructs and conventions. It is popular for its versatility and readability. Speaking of which…\n",
    "\n",
    "* 🪐 [Jupyter](https://jupyter.org) notebooks are hybrid documents that contain both code and markup. So it becomes easy to mix programming and documentation. What you are looking at now is a text cell written in the markup language Markdown, further below you see code cells written in the programming language Python (note the light grey background), which contain computable code! When viewing the notebooks on in Jupyter, you can double-click on any text cell to see its source. \n",
    "\n",
    "In this tutorial you will get a bit acquainted with Python and Jupyter, and get to know a few handy libraries for working with data."
   ]
  },
  {
   "cell_type": "markdown",
   "metadata": {
    "colab_type": "text",
    "id": "hIwGbqu6C-xs"
   },
   "source": [
    "## 🌍 Hello world \n",
    "\n",
    "Okay, enough words. Let's dive right into it and start with a classic:"
   ]
  },
  {
   "cell_type": "code",
   "execution_count": 1,
   "metadata": {
    "colab": {
     "base_uri": "https://localhost:8080/",
     "height": 34
    },
    "colab_type": "code",
    "executionInfo": {
     "elapsed": 646,
     "status": "ok",
     "timestamp": 1598360698873,
     "user": {
      "displayName": "Marian Dörk",
      "photoUrl": "https://lh3.googleusercontent.com/a-/AOh14GhqiajTdRS6NXELnqFzS3NNM3uxy6nUDGSMCjvAjw=s64",
      "userId": "05248840544598202773"
     },
     "user_tz": -120
    },
    "id": "R65CfhjLlN0x",
    "outputId": "6bc6e9c5-19a7-4415-f941-99efffd674c7",
    "tags": []
   },
   "outputs": [
    {
     "name": "stdout",
     "output_type": "stream",
     "text": [
      "Hello world\n"
     ]
    }
   ],
   "source": [
    "print(\"Hello world\")"
   ]
  },
  {
   "cell_type": "markdown",
   "metadata": {
    "colab_type": "text",
    "id": "wxMjevMRMp5x"
   },
   "source": [
    "Above code cell can be executed (i.e., run) by clicking **Shift + Enter**.\n",
    "\n",
    "Of course we can set variables and extend them. Feel free to change the message:"
   ]
  },
  {
   "cell_type": "code",
   "execution_count": 2,
   "metadata": {
    "colab": {
     "base_uri": "https://localhost:8080/",
     "height": 37
    },
    "colab_type": "code",
    "executionInfo": {
     "elapsed": 898,
     "status": "ok",
     "timestamp": 1598360699140,
     "user": {
      "displayName": "Marian Dörk",
      "photoUrl": "https://lh3.googleusercontent.com/a-/AOh14GhqiajTdRS6NXELnqFzS3NNM3uxy6nUDGSMCjvAjw=s64",
      "userId": "05248840544598202773"
     },
     "user_tz": -120
    },
    "id": "Db3jY1JiMkSP",
    "outputId": "95671b01-c79a-4fb5-eaeb-5e05a9eed8e2",
    "tags": []
   },
   "outputs": [
    {
     "data": {
      "text/plain": [
       "'hello world how are you!'"
      ]
     },
     "execution_count": 2,
     "metadata": {},
     "output_type": "execute_result"
    }
   ],
   "source": [
    "hello = \"hello world\"\n",
    "hello = hello + \" how are you!\"\n",
    "hello"
   ]
  },
  {
   "cell_type": "markdown",
   "metadata": {
    "colab_type": "text",
    "id": "wfXk4Bon1Yk5"
   },
   "source": [
    "Now that we have our first variable `hello` we can perform some string tricks, for example, we could change the capitalization:"
   ]
  },
  {
   "cell_type": "code",
   "execution_count": 3,
   "metadata": {
    "colab": {
     "base_uri": "https://localhost:8080/",
     "height": 37
    },
    "colab_type": "code",
    "executionInfo": {
     "elapsed": 889,
     "status": "ok",
     "timestamp": 1598360699141,
     "user": {
      "displayName": "Marian Dörk",
      "photoUrl": "https://lh3.googleusercontent.com/a-/AOh14GhqiajTdRS6NXELnqFzS3NNM3uxy6nUDGSMCjvAjw=s64",
      "userId": "05248840544598202773"
     },
     "user_tz": -120
    },
    "id": "083ukp0a5OOu",
    "outputId": "b5a8714c-d277-478e-8a42-c0f0481b4aba",
    "tags": []
   },
   "outputs": [
    {
     "data": {
      "text/plain": [
       "'Hello World How Are You!'"
      ]
     },
     "execution_count": 3,
     "metadata": {},
     "output_type": "execute_result"
    }
   ],
   "source": [
    "hello.title()"
   ]
  },
  {
   "cell_type": "code",
   "execution_count": 4,
   "metadata": {
    "colab": {
     "base_uri": "https://localhost:8080/",
     "height": 37
    },
    "colab_type": "code",
    "executionInfo": {
     "elapsed": 878,
     "status": "ok",
     "timestamp": 1598360699141,
     "user": {
      "displayName": "Marian Dörk",
      "photoUrl": "https://lh3.googleusercontent.com/a-/AOh14GhqiajTdRS6NXELnqFzS3NNM3uxy6nUDGSMCjvAjw=s64",
      "userId": "05248840544598202773"
     },
     "user_tz": -120
    },
    "id": "VAoTCbnmWpyz",
    "outputId": "66da4ec9-ac44-480e-baab-09c1f6b7f156",
    "tags": []
   },
   "outputs": [
    {
     "data": {
      "text/plain": [
       "'HELLO WORLD HOW ARE YOU!'"
      ]
     },
     "execution_count": 4,
     "metadata": {},
     "output_type": "execute_result"
    }
   ],
   "source": [
    "hello.upper()"
   ]
  },
  {
   "cell_type": "markdown",
   "metadata": {
    "colab_type": "text",
    "id": "9wDVk_w9BVe0"
   },
   "source": [
    "✏️ *Now it's your turn! (The pencil stands for a small hands-on activity!). Try some string manipulations yourself. To get some inspiration, have a look at the [string methods](https://docs.python.org/3/library/stdtypes.html?#string-methods) that Python has built-in:*"
   ]
  },
  {
   "cell_type": "code",
   "execution_count": 5,
   "metadata": {
    "colab": {},
    "colab_type": "code",
    "id": "tFGcIMSPAZmQ",
    "tags": []
   },
   "outputs": [
    {
     "data": {
      "text/plain": [
       "'Hello world how are you!'"
      ]
     },
     "execution_count": 5,
     "metadata": {},
     "output_type": "execute_result"
    }
   ],
   "source": [
    "hello.capitalize()"
   ]
  },
  {
   "cell_type": "markdown",
   "metadata": {
    "colab_type": "text",
    "id": "UjMp0emzDY19",
    "tags": []
   },
   "source": [
    "## 📦 Let's get some packages\n",
    "\n",
    "Python itself provides only limited methods for working with more complex data. One of the main reasons for Python's (and  Jupyter's) popularity is the wide availability of software packages that provide powerful means for preparing, processing, presenting, and probing data. Throughout the tutorials you will get to know a few packages, some of them highly specific tools and others more general-purpose libraries. \n",
    "\n",
    "To use packages in a notebook, you simply `import` them and assign an abbreviation after `as` to keep your code succinct. This is how you do it:"
   ]
  },
  {
   "cell_type": "code",
   "execution_count": 6,
   "metadata": {
    "colab": {},
    "colab_type": "code",
    "id": "xkOALOiiGs-G",
    "tags": []
   },
   "outputs": [],
   "source": [
    "import pandas as pd"
   ]
  },
  {
   "cell_type": "markdown",
   "metadata": {
    "colab_type": "text",
    "id": "4GkVEmvxJFyC",
    "tags": []
   },
   "source": [
    "Now the powerful `pandas` package is loaded and will answer to its nickname `pd`.\n",
    "\n",
    "🐼 [Pandas](https://pandas.pydata.org) really is a data analysis workhorse with the DataFrame data structure being one of its main muscles. You will learn to love it! With pandas you can do simple and sophisticated operations over small and sizable datasets. \n",
    "\n",
    "Let's create a little toy dataset to give you a sense of how it works:\n"
   ]
  },
  {
   "cell_type": "code",
   "execution_count": 7,
   "metadata": {
    "colab": {},
    "colab_type": "code",
    "id": "XFmCkuuENNGl",
    "tags": []
   },
   "outputs": [],
   "source": [
    "covid_data = pd.read_csv(\"https://covid.ourworldindata.org/data/owid-covid-data.csv\")"
   ]
  },
  {
   "cell_type": "markdown",
   "metadata": {
    "colab_type": "text",
    "id": "IyYR9uk-YbV1"
   },
   "source": [
    "To check whether the DataFrame was created successfully, we can simply type the variable name `covid_data`, display its content as an ouput:"
   ]
  },
  {
   "cell_type": "code",
   "execution_count": 8,
   "metadata": {
    "colab": {
     "base_uri": "https://localhost:8080/",
     "height": 173
    },
    "colab_type": "code",
    "executionInfo": {
     "elapsed": 1133,
     "status": "ok",
     "timestamp": 1598360699412,
     "user": {
      "displayName": "Marian Dörk",
      "photoUrl": "https://lh3.googleusercontent.com/a-/AOh14GhqiajTdRS6NXELnqFzS3NNM3uxy6nUDGSMCjvAjw=s64",
      "userId": "05248840544598202773"
     },
     "user_tz": -120
    },
    "id": "NU1zjGHAYcTk",
    "jupyter": {
     "source_hidden": true
    },
    "outputId": "6a4c9434-023c-4f68-b6c5-6e383b914282",
    "tags": []
   },
   "outputs": [
    {
     "data": {
      "text/html": [
       "<div>\n",
       "<style scoped>\n",
       "    .dataframe tbody tr th:only-of-type {\n",
       "        vertical-align: middle;\n",
       "    }\n",
       "\n",
       "    .dataframe tbody tr th {\n",
       "        vertical-align: top;\n",
       "    }\n",
       "\n",
       "    .dataframe thead th {\n",
       "        text-align: right;\n",
       "    }\n",
       "</style>\n",
       "<table border=\"1\" class=\"dataframe\">\n",
       "  <thead>\n",
       "    <tr style=\"text-align: right;\">\n",
       "      <th></th>\n",
       "      <th>iso_code</th>\n",
       "      <th>continent</th>\n",
       "      <th>location</th>\n",
       "      <th>date</th>\n",
       "      <th>total_cases</th>\n",
       "      <th>new_cases</th>\n",
       "      <th>new_cases_smoothed</th>\n",
       "      <th>total_deaths</th>\n",
       "      <th>new_deaths</th>\n",
       "      <th>new_deaths_smoothed</th>\n",
       "      <th>...</th>\n",
       "      <th>male_smokers</th>\n",
       "      <th>handwashing_facilities</th>\n",
       "      <th>hospital_beds_per_thousand</th>\n",
       "      <th>life_expectancy</th>\n",
       "      <th>human_development_index</th>\n",
       "      <th>population</th>\n",
       "      <th>excess_mortality_cumulative_absolute</th>\n",
       "      <th>excess_mortality_cumulative</th>\n",
       "      <th>excess_mortality</th>\n",
       "      <th>excess_mortality_cumulative_per_million</th>\n",
       "    </tr>\n",
       "  </thead>\n",
       "  <tbody>\n",
       "    <tr>\n",
       "      <th>0</th>\n",
       "      <td>AFG</td>\n",
       "      <td>Asia</td>\n",
       "      <td>Afghanistan</td>\n",
       "      <td>2020-01-03</td>\n",
       "      <td>NaN</td>\n",
       "      <td>0.0</td>\n",
       "      <td>NaN</td>\n",
       "      <td>NaN</td>\n",
       "      <td>0.0</td>\n",
       "      <td>NaN</td>\n",
       "      <td>...</td>\n",
       "      <td>NaN</td>\n",
       "      <td>37.746</td>\n",
       "      <td>0.5</td>\n",
       "      <td>64.83</td>\n",
       "      <td>0.511</td>\n",
       "      <td>41128772.0</td>\n",
       "      <td>NaN</td>\n",
       "      <td>NaN</td>\n",
       "      <td>NaN</td>\n",
       "      <td>NaN</td>\n",
       "    </tr>\n",
       "    <tr>\n",
       "      <th>1</th>\n",
       "      <td>AFG</td>\n",
       "      <td>Asia</td>\n",
       "      <td>Afghanistan</td>\n",
       "      <td>2020-01-04</td>\n",
       "      <td>NaN</td>\n",
       "      <td>0.0</td>\n",
       "      <td>NaN</td>\n",
       "      <td>NaN</td>\n",
       "      <td>0.0</td>\n",
       "      <td>NaN</td>\n",
       "      <td>...</td>\n",
       "      <td>NaN</td>\n",
       "      <td>37.746</td>\n",
       "      <td>0.5</td>\n",
       "      <td>64.83</td>\n",
       "      <td>0.511</td>\n",
       "      <td>41128772.0</td>\n",
       "      <td>NaN</td>\n",
       "      <td>NaN</td>\n",
       "      <td>NaN</td>\n",
       "      <td>NaN</td>\n",
       "    </tr>\n",
       "    <tr>\n",
       "      <th>2</th>\n",
       "      <td>AFG</td>\n",
       "      <td>Asia</td>\n",
       "      <td>Afghanistan</td>\n",
       "      <td>2020-01-05</td>\n",
       "      <td>NaN</td>\n",
       "      <td>0.0</td>\n",
       "      <td>NaN</td>\n",
       "      <td>NaN</td>\n",
       "      <td>0.0</td>\n",
       "      <td>NaN</td>\n",
       "      <td>...</td>\n",
       "      <td>NaN</td>\n",
       "      <td>37.746</td>\n",
       "      <td>0.5</td>\n",
       "      <td>64.83</td>\n",
       "      <td>0.511</td>\n",
       "      <td>41128772.0</td>\n",
       "      <td>NaN</td>\n",
       "      <td>NaN</td>\n",
       "      <td>NaN</td>\n",
       "      <td>NaN</td>\n",
       "    </tr>\n",
       "    <tr>\n",
       "      <th>3</th>\n",
       "      <td>AFG</td>\n",
       "      <td>Asia</td>\n",
       "      <td>Afghanistan</td>\n",
       "      <td>2020-01-06</td>\n",
       "      <td>NaN</td>\n",
       "      <td>0.0</td>\n",
       "      <td>NaN</td>\n",
       "      <td>NaN</td>\n",
       "      <td>0.0</td>\n",
       "      <td>NaN</td>\n",
       "      <td>...</td>\n",
       "      <td>NaN</td>\n",
       "      <td>37.746</td>\n",
       "      <td>0.5</td>\n",
       "      <td>64.83</td>\n",
       "      <td>0.511</td>\n",
       "      <td>41128772.0</td>\n",
       "      <td>NaN</td>\n",
       "      <td>NaN</td>\n",
       "      <td>NaN</td>\n",
       "      <td>NaN</td>\n",
       "    </tr>\n",
       "    <tr>\n",
       "      <th>4</th>\n",
       "      <td>AFG</td>\n",
       "      <td>Asia</td>\n",
       "      <td>Afghanistan</td>\n",
       "      <td>2020-01-07</td>\n",
       "      <td>NaN</td>\n",
       "      <td>0.0</td>\n",
       "      <td>NaN</td>\n",
       "      <td>NaN</td>\n",
       "      <td>0.0</td>\n",
       "      <td>NaN</td>\n",
       "      <td>...</td>\n",
       "      <td>NaN</td>\n",
       "      <td>37.746</td>\n",
       "      <td>0.5</td>\n",
       "      <td>64.83</td>\n",
       "      <td>0.511</td>\n",
       "      <td>41128772.0</td>\n",
       "      <td>NaN</td>\n",
       "      <td>NaN</td>\n",
       "      <td>NaN</td>\n",
       "      <td>NaN</td>\n",
       "    </tr>\n",
       "    <tr>\n",
       "      <th>...</th>\n",
       "      <td>...</td>\n",
       "      <td>...</td>\n",
       "      <td>...</td>\n",
       "      <td>...</td>\n",
       "      <td>...</td>\n",
       "      <td>...</td>\n",
       "      <td>...</td>\n",
       "      <td>...</td>\n",
       "      <td>...</td>\n",
       "      <td>...</td>\n",
       "      <td>...</td>\n",
       "      <td>...</td>\n",
       "      <td>...</td>\n",
       "      <td>...</td>\n",
       "      <td>...</td>\n",
       "      <td>...</td>\n",
       "      <td>...</td>\n",
       "      <td>...</td>\n",
       "      <td>...</td>\n",
       "      <td>...</td>\n",
       "      <td>...</td>\n",
       "    </tr>\n",
       "    <tr>\n",
       "      <th>349994</th>\n",
       "      <td>ZWE</td>\n",
       "      <td>Africa</td>\n",
       "      <td>Zimbabwe</td>\n",
       "      <td>2023-10-14</td>\n",
       "      <td>265808.0</td>\n",
       "      <td>0.0</td>\n",
       "      <td>5.286</td>\n",
       "      <td>5718.0</td>\n",
       "      <td>0.0</td>\n",
       "      <td>0.0</td>\n",
       "      <td>...</td>\n",
       "      <td>30.7</td>\n",
       "      <td>36.791</td>\n",
       "      <td>1.7</td>\n",
       "      <td>61.49</td>\n",
       "      <td>0.571</td>\n",
       "      <td>16320539.0</td>\n",
       "      <td>NaN</td>\n",
       "      <td>NaN</td>\n",
       "      <td>NaN</td>\n",
       "      <td>NaN</td>\n",
       "    </tr>\n",
       "    <tr>\n",
       "      <th>349995</th>\n",
       "      <td>ZWE</td>\n",
       "      <td>Africa</td>\n",
       "      <td>Zimbabwe</td>\n",
       "      <td>2023-10-15</td>\n",
       "      <td>265808.0</td>\n",
       "      <td>0.0</td>\n",
       "      <td>5.286</td>\n",
       "      <td>5718.0</td>\n",
       "      <td>0.0</td>\n",
       "      <td>0.0</td>\n",
       "      <td>...</td>\n",
       "      <td>30.7</td>\n",
       "      <td>36.791</td>\n",
       "      <td>1.7</td>\n",
       "      <td>61.49</td>\n",
       "      <td>0.571</td>\n",
       "      <td>16320539.0</td>\n",
       "      <td>NaN</td>\n",
       "      <td>NaN</td>\n",
       "      <td>NaN</td>\n",
       "      <td>NaN</td>\n",
       "    </tr>\n",
       "    <tr>\n",
       "      <th>349996</th>\n",
       "      <td>ZWE</td>\n",
       "      <td>Africa</td>\n",
       "      <td>Zimbabwe</td>\n",
       "      <td>2023-10-16</td>\n",
       "      <td>265808.0</td>\n",
       "      <td>0.0</td>\n",
       "      <td>5.286</td>\n",
       "      <td>5718.0</td>\n",
       "      <td>0.0</td>\n",
       "      <td>0.0</td>\n",
       "      <td>...</td>\n",
       "      <td>30.7</td>\n",
       "      <td>36.791</td>\n",
       "      <td>1.7</td>\n",
       "      <td>61.49</td>\n",
       "      <td>0.571</td>\n",
       "      <td>16320539.0</td>\n",
       "      <td>NaN</td>\n",
       "      <td>NaN</td>\n",
       "      <td>NaN</td>\n",
       "      <td>NaN</td>\n",
       "    </tr>\n",
       "    <tr>\n",
       "      <th>349997</th>\n",
       "      <td>ZWE</td>\n",
       "      <td>Africa</td>\n",
       "      <td>Zimbabwe</td>\n",
       "      <td>2023-10-17</td>\n",
       "      <td>265808.0</td>\n",
       "      <td>0.0</td>\n",
       "      <td>0.000</td>\n",
       "      <td>5718.0</td>\n",
       "      <td>0.0</td>\n",
       "      <td>0.0</td>\n",
       "      <td>...</td>\n",
       "      <td>30.7</td>\n",
       "      <td>36.791</td>\n",
       "      <td>1.7</td>\n",
       "      <td>61.49</td>\n",
       "      <td>0.571</td>\n",
       "      <td>16320539.0</td>\n",
       "      <td>NaN</td>\n",
       "      <td>NaN</td>\n",
       "      <td>NaN</td>\n",
       "      <td>NaN</td>\n",
       "    </tr>\n",
       "    <tr>\n",
       "      <th>349998</th>\n",
       "      <td>ZWE</td>\n",
       "      <td>Africa</td>\n",
       "      <td>Zimbabwe</td>\n",
       "      <td>2023-10-18</td>\n",
       "      <td>265808.0</td>\n",
       "      <td>0.0</td>\n",
       "      <td>0.000</td>\n",
       "      <td>5718.0</td>\n",
       "      <td>0.0</td>\n",
       "      <td>0.0</td>\n",
       "      <td>...</td>\n",
       "      <td>30.7</td>\n",
       "      <td>36.791</td>\n",
       "      <td>1.7</td>\n",
       "      <td>61.49</td>\n",
       "      <td>0.571</td>\n",
       "      <td>16320539.0</td>\n",
       "      <td>NaN</td>\n",
       "      <td>NaN</td>\n",
       "      <td>NaN</td>\n",
       "      <td>NaN</td>\n",
       "    </tr>\n",
       "  </tbody>\n",
       "</table>\n",
       "<p>349999 rows × 67 columns</p>\n",
       "</div>"
      ],
      "text/plain": [
       "       iso_code continent     location        date  total_cases  new_cases  \\\n",
       "0           AFG      Asia  Afghanistan  2020-01-03          NaN        0.0   \n",
       "1           AFG      Asia  Afghanistan  2020-01-04          NaN        0.0   \n",
       "2           AFG      Asia  Afghanistan  2020-01-05          NaN        0.0   \n",
       "3           AFG      Asia  Afghanistan  2020-01-06          NaN        0.0   \n",
       "4           AFG      Asia  Afghanistan  2020-01-07          NaN        0.0   \n",
       "...         ...       ...          ...         ...          ...        ...   \n",
       "349994      ZWE    Africa     Zimbabwe  2023-10-14     265808.0        0.0   \n",
       "349995      ZWE    Africa     Zimbabwe  2023-10-15     265808.0        0.0   \n",
       "349996      ZWE    Africa     Zimbabwe  2023-10-16     265808.0        0.0   \n",
       "349997      ZWE    Africa     Zimbabwe  2023-10-17     265808.0        0.0   \n",
       "349998      ZWE    Africa     Zimbabwe  2023-10-18     265808.0        0.0   \n",
       "\n",
       "        new_cases_smoothed  total_deaths  new_deaths  new_deaths_smoothed  \\\n",
       "0                      NaN           NaN         0.0                  NaN   \n",
       "1                      NaN           NaN         0.0                  NaN   \n",
       "2                      NaN           NaN         0.0                  NaN   \n",
       "3                      NaN           NaN         0.0                  NaN   \n",
       "4                      NaN           NaN         0.0                  NaN   \n",
       "...                    ...           ...         ...                  ...   \n",
       "349994               5.286        5718.0         0.0                  0.0   \n",
       "349995               5.286        5718.0         0.0                  0.0   \n",
       "349996               5.286        5718.0         0.0                  0.0   \n",
       "349997               0.000        5718.0         0.0                  0.0   \n",
       "349998               0.000        5718.0         0.0                  0.0   \n",
       "\n",
       "        ...  male_smokers  handwashing_facilities  hospital_beds_per_thousand  \\\n",
       "0       ...           NaN                  37.746                         0.5   \n",
       "1       ...           NaN                  37.746                         0.5   \n",
       "2       ...           NaN                  37.746                         0.5   \n",
       "3       ...           NaN                  37.746                         0.5   \n",
       "4       ...           NaN                  37.746                         0.5   \n",
       "...     ...           ...                     ...                         ...   \n",
       "349994  ...          30.7                  36.791                         1.7   \n",
       "349995  ...          30.7                  36.791                         1.7   \n",
       "349996  ...          30.7                  36.791                         1.7   \n",
       "349997  ...          30.7                  36.791                         1.7   \n",
       "349998  ...          30.7                  36.791                         1.7   \n",
       "\n",
       "        life_expectancy  human_development_index  population  \\\n",
       "0                 64.83                    0.511  41128772.0   \n",
       "1                 64.83                    0.511  41128772.0   \n",
       "2                 64.83                    0.511  41128772.0   \n",
       "3                 64.83                    0.511  41128772.0   \n",
       "4                 64.83                    0.511  41128772.0   \n",
       "...                 ...                      ...         ...   \n",
       "349994            61.49                    0.571  16320539.0   \n",
       "349995            61.49                    0.571  16320539.0   \n",
       "349996            61.49                    0.571  16320539.0   \n",
       "349997            61.49                    0.571  16320539.0   \n",
       "349998            61.49                    0.571  16320539.0   \n",
       "\n",
       "        excess_mortality_cumulative_absolute  excess_mortality_cumulative  \\\n",
       "0                                        NaN                          NaN   \n",
       "1                                        NaN                          NaN   \n",
       "2                                        NaN                          NaN   \n",
       "3                                        NaN                          NaN   \n",
       "4                                        NaN                          NaN   \n",
       "...                                      ...                          ...   \n",
       "349994                                   NaN                          NaN   \n",
       "349995                                   NaN                          NaN   \n",
       "349996                                   NaN                          NaN   \n",
       "349997                                   NaN                          NaN   \n",
       "349998                                   NaN                          NaN   \n",
       "\n",
       "        excess_mortality  excess_mortality_cumulative_per_million  \n",
       "0                    NaN                                      NaN  \n",
       "1                    NaN                                      NaN  \n",
       "2                    NaN                                      NaN  \n",
       "3                    NaN                                      NaN  \n",
       "4                    NaN                                      NaN  \n",
       "...                  ...                                      ...  \n",
       "349994               NaN                                      NaN  \n",
       "349995               NaN                                      NaN  \n",
       "349996               NaN                                      NaN  \n",
       "349997               NaN                                      NaN  \n",
       "349998               NaN                                      NaN  \n",
       "\n",
       "[349999 rows x 67 columns]"
      ]
     },
     "execution_count": 8,
     "metadata": {},
     "output_type": "execute_result"
    }
   ],
   "source": [
    "covid_data"
   ]
  },
  {
   "cell_type": "code",
   "execution_count": 9,
   "metadata": {
    "tags": []
   },
   "outputs": [
    {
     "name": "stdout",
     "output_type": "stream",
     "text": [
      "<class 'pandas.core.frame.DataFrame'>\n",
      "RangeIndex: 349999 entries, 0 to 349998\n",
      "Data columns (total 67 columns):\n",
      " #   Column                                      Non-Null Count   Dtype  \n",
      "---  ------                                      --------------   -----  \n",
      " 0   iso_code                                    349999 non-null  object \n",
      " 1   continent                                   333370 non-null  object \n",
      " 2   location                                    349999 non-null  object \n",
      " 3   date                                        349999 non-null  object \n",
      " 4   total_cases                                 312088 non-null  float64\n",
      " 5   new_cases                                   340457 non-null  float64\n",
      " 6   new_cases_smoothed                          339198 non-null  float64\n",
      " 7   total_deaths                                290501 non-null  float64\n",
      " 8   new_deaths                                  340511 non-null  float64\n",
      " 9   new_deaths_smoothed                         339281 non-null  float64\n",
      " 10  total_cases_per_million                     312088 non-null  float64\n",
      " 11  new_cases_per_million                       340457 non-null  float64\n",
      " 12  new_cases_smoothed_per_million              339198 non-null  float64\n",
      " 13  total_deaths_per_million                    290501 non-null  float64\n",
      " 14  new_deaths_per_million                      340511 non-null  float64\n",
      " 15  new_deaths_smoothed_per_million             339281 non-null  float64\n",
      " 16  reproduction_rate                           184817 non-null  float64\n",
      " 17  icu_patients                                37586 non-null   float64\n",
      " 18  icu_patients_per_million                    37586 non-null   float64\n",
      " 19  hosp_patients                               38866 non-null   float64\n",
      " 20  hosp_patients_per_million                   38866 non-null   float64\n",
      " 21  weekly_icu_admissions                       10188 non-null   float64\n",
      " 22  weekly_icu_admissions_per_million           10188 non-null   float64\n",
      " 23  weekly_hosp_admissions                      23229 non-null   float64\n",
      " 24  weekly_hosp_admissions_per_million          23229 non-null   float64\n",
      " 25  total_tests                                 79387 non-null   float64\n",
      " 26  new_tests                                   75403 non-null   float64\n",
      " 27  total_tests_per_thousand                    79387 non-null   float64\n",
      " 28  new_tests_per_thousand                      75403 non-null   float64\n",
      " 29  new_tests_smoothed                          103965 non-null  float64\n",
      " 30  new_tests_smoothed_per_thousand             103965 non-null  float64\n",
      " 31  positive_rate                               95927 non-null   float64\n",
      " 32  tests_per_case                              94348 non-null   float64\n",
      " 33  tests_units                                 106788 non-null  object \n",
      " 34  total_vaccinations                          79240 non-null   float64\n",
      " 35  people_vaccinated                           75848 non-null   float64\n",
      " 36  people_fully_vaccinated                     72507 non-null   float64\n",
      " 37  total_boosters                              47499 non-null   float64\n",
      " 38  new_vaccinations                            65281 non-null   float64\n",
      " 39  new_vaccinations_smoothed                   180645 non-null  float64\n",
      " 40  total_vaccinations_per_hundred              79240 non-null   float64\n",
      " 41  people_vaccinated_per_hundred               75848 non-null   float64\n",
      " 42  people_fully_vaccinated_per_hundred         72507 non-null   float64\n",
      " 43  total_boosters_per_hundred                  47499 non-null   float64\n",
      " 44  new_vaccinations_smoothed_per_million       180645 non-null  float64\n",
      " 45  new_people_vaccinated_smoothed              180420 non-null  float64\n",
      " 46  new_people_vaccinated_smoothed_per_hundred  180420 non-null  float64\n",
      " 47  stringency_index                            197651 non-null  float64\n",
      " 48  population_density                          297124 non-null  float64\n",
      " 49  median_age                                  276313 non-null  float64\n",
      " 50  aged_65_older                               266654 non-null  float64\n",
      " 51  aged_70_older                               273543 non-null  float64\n",
      " 52  gdp_per_capita                              270809 non-null  float64\n",
      " 53  extreme_poverty                             174522 non-null  float64\n",
      " 54  cardiovasc_death_rate                       271437 non-null  float64\n",
      " 55  diabetes_prevalence                         285249 non-null  float64\n",
      " 56  female_smokers                              203609 non-null  float64\n",
      " 57  male_smokers                                200839 non-null  float64\n",
      " 58  handwashing_facilities                      132965 non-null  float64\n",
      " 59  hospital_beds_per_thousand                  239619 non-null  float64\n",
      " 60  life_expectancy                             322018 non-null  float64\n",
      " 61  human_development_index                     263088 non-null  float64\n",
      " 62  population                                  349999 non-null  float64\n",
      " 63  excess_mortality_cumulative_absolute        12162 non-null   float64\n",
      " 64  excess_mortality_cumulative                 12162 non-null   float64\n",
      " 65  excess_mortality                            12162 non-null   float64\n",
      " 66  excess_mortality_cumulative_per_million     12162 non-null   float64\n",
      "dtypes: float64(62), object(5)\n",
      "memory usage: 178.9+ MB\n"
     ]
    }
   ],
   "source": [
    "covid_data.info()"
   ]
  },
  {
   "cell_type": "markdown",
   "metadata": {
    "colab_type": "text",
    "id": "cysxsu-3j3ms"
   },
   "source": [
    "The output generated by a code cell is printed right below it. In the case of a DataFrame we get a table. By convention, the rows are the data entries and the columns are the data dimensions. The first column on the left side is the index.\n",
    "\n",
    "Now let's do something with our newly created DataFrame. For example, we could get the largest amount of new cases using the ```max``` method."
   ]
  },
  {
   "cell_type": "code",
   "execution_count": 10,
   "metadata": {
    "colab": {
     "base_uri": "https://localhost:8080/",
     "height": 34
    },
    "colab_type": "code",
    "executionInfo": {
     "elapsed": 1123,
     "status": "ok",
     "timestamp": 1598360699413,
     "user": {
      "displayName": "Marian Dörk",
      "photoUrl": "https://lh3.googleusercontent.com/a-/AOh14GhqiajTdRS6NXELnqFzS3NNM3uxy6nUDGSMCjvAjw=s64",
      "userId": "05248840544598202773"
     },
     "user_tz": -120
    },
    "id": "KwgDbPOKVuEK",
    "outputId": "e1104602-c216-423b-a308-7aa5a0b2e844",
    "tags": []
   },
   "outputs": [
    {
     "data": {
      "text/plain": [
       "771407061.0"
      ]
     },
     "execution_count": 10,
     "metadata": {},
     "output_type": "execute_result"
    }
   ],
   "source": [
    "covid_data.total_cases.max()"
   ]
  },
  {
   "cell_type": "markdown",
   "metadata": {
    "colab_type": "text",
    "id": "cv_uzWGvBm4N"
   },
   "source": [
    "✏️ *What would it take to get the highest positive rate?*"
   ]
  },
  {
   "cell_type": "code",
   "execution_count": 11,
   "metadata": {
    "tags": []
   },
   "outputs": [
    {
     "data": {
      "text/plain": [
       "1.0"
      ]
     },
     "execution_count": 11,
     "metadata": {},
     "output_type": "execute_result"
    }
   ],
   "source": [
    "covid_data.positive_rate.max()"
   ]
  },
  {
   "cell_type": "code",
   "execution_count": 12,
   "metadata": {
    "colab": {},
    "colab_type": "code",
    "id": "2Co8p4WfBwKV",
    "tags": []
   },
   "outputs": [
    {
     "data": {
      "text/plain": [
       "8401961.0"
      ]
     },
     "execution_count": 12,
     "metadata": {},
     "output_type": "execute_result"
    }
   ],
   "source": [
    "covid_data.new_cases.max()"
   ]
  },
  {
   "cell_type": "markdown",
   "metadata": {
    "colab_type": "text",
    "id": "-FiavujLB14l"
   },
   "source": [
    "To get the entry belonging to the biggest amount of new cases, one needs to **loc**ate it via its index:"
   ]
  },
  {
   "cell_type": "code",
   "execution_count": 13,
   "metadata": {
    "colab": {
     "base_uri": "https://localhost:8080/",
     "height": 102
    },
    "colab_type": "code",
    "executionInfo": {
     "elapsed": 1111,
     "status": "ok",
     "timestamp": 1598360699414,
     "user": {
      "displayName": "Marian Dörk",
      "photoUrl": "https://lh3.googleusercontent.com/a-/AOh14GhqiajTdRS6NXELnqFzS3NNM3uxy6nUDGSMCjvAjw=s64",
      "userId": "05248840544598202773"
     },
     "user_tz": -120
    },
    "id": "k2jxlpQYA1v9",
    "outputId": "1f5f9818-d4e3-4cce-8786-aee3c5d535bd",
    "tags": []
   },
   "outputs": [
    {
     "data": {
      "text/plain": [
       "iso_code                                       OWID_WRL\n",
       "continent                                           NaN\n",
       "location                                          World\n",
       "date                                         2023-10-15\n",
       "total_cases                                 771407061.0\n",
       "                                               ...     \n",
       "population                                 7975105024.0\n",
       "excess_mortality_cumulative_absolute                NaN\n",
       "excess_mortality_cumulative                         NaN\n",
       "excess_mortality                                    NaN\n",
       "excess_mortality_cumulative_per_million             NaN\n",
       "Name: 345839, Length: 67, dtype: object"
      ]
     },
     "execution_count": 13,
     "metadata": {},
     "output_type": "execute_result"
    }
   ],
   "source": [
    "covid_data.loc[ covid_data.total_cases.idxmax() ]"
   ]
  },
  {
   "cell_type": "markdown",
   "metadata": {
    "colab_type": "text",
    "id": "rsKefF68DXNs"
   },
   "source": [
    "We can also calculate averages for each numeric column by selecting them first and then calculating the mean:"
   ]
  },
  {
   "cell_type": "code",
   "execution_count": 14,
   "metadata": {
    "colab": {
     "base_uri": "https://localhost:8080/",
     "height": 85
    },
    "colab_type": "code",
    "executionInfo": {
     "elapsed": 1102,
     "status": "ok",
     "timestamp": 1598360699415,
     "user": {
      "displayName": "Marian Dörk",
      "photoUrl": "https://lh3.googleusercontent.com/a-/AOh14GhqiajTdRS6NXELnqFzS3NNM3uxy6nUDGSMCjvAjw=s64",
      "userId": "05248840544598202773"
     },
     "user_tz": -120
    },
    "id": "KEInp_PmVroj",
    "outputId": "a35b6be0-da22-460d-8e4c-dd440ea49763"
   },
   "outputs": [
    {
     "data": {
      "text/plain": [
       "total_cases    6.683354e+06\n",
       "new_cases      9.601634e+03\n",
       "new_deaths     8.551106e+01\n",
       "dtype: float64"
      ]
     },
     "execution_count": 14,
     "metadata": {},
     "output_type": "execute_result"
    }
   ],
   "source": [
    "covid_data[['total_cases', 'new_cases', 'new_deaths']].mean(axis=0)"
   ]
  },
  {
   "cell_type": "markdown",
   "metadata": {
    "colab_type": "text",
    "id": "7-ouzVpYZkyD"
   },
   "source": [
    "There is so much more to discover, some of which you will do over the course of the tutorials. The [DataFrame page](https://pandas.pydata.org/pandas-docs/stable/reference/api/pandas.DataFrame.html) in the pandas reference gives a complete (i.e., long) list of all methods provided by the data structure. \n",
    "\n",
    "If you want to do something specific, but do not know the particular method name, a well formulated search query in a search engine can help wonders. In particular, the discussions on Stack Overflow contain various helpful entries. Quite often it is the case that somebody else has had a similar problem that you're trying to solve. The key then is to precisely formulate your query. For this it is good to understand the basic terminology of Python, pandas, etc."
   ]
  },
  {
   "cell_type": "markdown",
   "metadata": {
    "colab_type": "text",
    "id": "RKg7MCJyDpKY"
   },
   "source": [
    "## 🌠 Let's reach to the stars \n",
    "\n",
    "Altair is the brightest star in the Aquila constellation and it is also the name of a versatile [visualization library](https://altair-viz.github.io/)  specifically created for Python based on the popular Vega-Lite visualization grammar. \n",
    "\n",
    "With 📊Altair we can create charts and visualizations in little time. \n",
    "\n",
    "In order to put Altair to use, we first have to import it and give it a short name:\n"
   ]
  },
  {
   "cell_type": "code",
   "execution_count": 15,
   "metadata": {
    "colab": {},
    "colab_type": "code",
    "id": "GKERU_uFKoi4",
    "tags": []
   },
   "outputs": [],
   "source": [
    "import altair as alt"
   ]
  },
  {
   "cell_type": "markdown",
   "metadata": {},
   "source": [
    "First lets prepare the data. Since Altair only supports dataframes up to 5000 rows, we need a bit of work to get our data in form! So lets by start by aggregating our data."
   ]
  },
  {
   "cell_type": "code",
   "execution_count": 16,
   "metadata": {
    "tags": []
   },
   "outputs": [
    {
     "name": "stderr",
     "output_type": "stream",
     "text": [
      "/tmp/ipykernel_630813/2742505814.py:1: FutureWarning: The default value of numeric_only in DataFrameGroupBy.sum is deprecated. In a future version, numeric_only will default to False. Either specify numeric_only or select only columns which should be valid for the function.\n",
      "  data = covid_data.groupby('continent').sum().reset_index()\n"
     ]
    }
   ],
   "source": [
    "data = covid_data.groupby('continent').sum().reset_index()"
   ]
  },
  {
   "cell_type": "markdown",
   "metadata": {},
   "source": [
    "First we call ```groupby``` to group our data by the ```continent``` column, then we sum the values in each group. The result of this computation has the grouped-by values in its index. But since Altair does not support the creation of axes out of indexes we reset the index to a column by executing ```reset_index``` on the resulting dataframe."
   ]
  },
  {
   "cell_type": "code",
   "execution_count": 17,
   "metadata": {
    "colab": {
     "base_uri": "https://localhost:8080/",
     "height": 416
    },
    "colab_type": "code",
    "executionInfo": {
     "elapsed": 1581,
     "status": "ok",
     "timestamp": 1598360699907,
     "user": {
      "displayName": "Marian Dörk",
      "photoUrl": "https://lh3.googleusercontent.com/a-/AOh14GhqiajTdRS6NXELnqFzS3NNM3uxy6nUDGSMCjvAjw=s64",
      "userId": "05248840544598202773"
     },
     "user_tz": -120
    },
    "id": "5Rf-nuRi1oyC",
    "outputId": "a8039def-b166-4a98-d0f0-15c1b0326bc2",
    "tags": []
   },
   "outputs": [
    {
     "data": {
      "text/html": [
       "\n",
       "<style>\n",
       "  #altair-viz-6539defc8c1d4763bf8962e1e6649989.vega-embed {\n",
       "    width: 100%;\n",
       "    display: flex;\n",
       "  }\n",
       "\n",
       "  #altair-viz-6539defc8c1d4763bf8962e1e6649989.vega-embed details,\n",
       "  #altair-viz-6539defc8c1d4763bf8962e1e6649989.vega-embed details summary {\n",
       "    position: relative;\n",
       "  }\n",
       "</style>\n",
       "<div id=\"altair-viz-6539defc8c1d4763bf8962e1e6649989\"></div>\n",
       "<script type=\"text/javascript\">\n",
       "  var VEGA_DEBUG = (typeof VEGA_DEBUG == \"undefined\") ? {} : VEGA_DEBUG;\n",
       "  (function(spec, embedOpt){\n",
       "    let outputDiv = document.currentScript.previousElementSibling;\n",
       "    if (outputDiv.id !== \"altair-viz-6539defc8c1d4763bf8962e1e6649989\") {\n",
       "      outputDiv = document.getElementById(\"altair-viz-6539defc8c1d4763bf8962e1e6649989\");\n",
       "    }\n",
       "    const paths = {\n",
       "      \"vega\": \"https://cdn.jsdelivr.net/npm/vega@5?noext\",\n",
       "      \"vega-lib\": \"https://cdn.jsdelivr.net/npm/vega-lib?noext\",\n",
       "      \"vega-lite\": \"https://cdn.jsdelivr.net/npm/vega-lite@5.15.1?noext\",\n",
       "      \"vega-embed\": \"https://cdn.jsdelivr.net/npm/vega-embed@6?noext\",\n",
       "    };\n",
       "\n",
       "    function maybeLoadScript(lib, version) {\n",
       "      var key = `${lib.replace(\"-\", \"\")}_version`;\n",
       "      return (VEGA_DEBUG[key] == version) ?\n",
       "        Promise.resolve(paths[lib]) :\n",
       "        new Promise(function(resolve, reject) {\n",
       "          var s = document.createElement('script');\n",
       "          document.getElementsByTagName(\"head\")[0].appendChild(s);\n",
       "          s.async = true;\n",
       "          s.onload = () => {\n",
       "            VEGA_DEBUG[key] = version;\n",
       "            return resolve(paths[lib]);\n",
       "          };\n",
       "          s.onerror = () => reject(`Error loading script: ${paths[lib]}`);\n",
       "          s.src = paths[lib];\n",
       "        });\n",
       "    }\n",
       "\n",
       "    function showError(err) {\n",
       "      outputDiv.innerHTML = `<div class=\"error\" style=\"color:red;\">${err}</div>`;\n",
       "      throw err;\n",
       "    }\n",
       "\n",
       "    function displayChart(vegaEmbed) {\n",
       "      vegaEmbed(outputDiv, spec, embedOpt)\n",
       "        .catch(err => showError(`Javascript Error: ${err.message}<br>This usually means there's a typo in your chart specification. See the javascript console for the full traceback.`));\n",
       "    }\n",
       "\n",
       "    if(typeof define === \"function\" && define.amd) {\n",
       "      requirejs.config({paths});\n",
       "      require([\"vega-embed\"], displayChart, err => showError(`Error loading script: ${err.message}`));\n",
       "    } else {\n",
       "      maybeLoadScript(\"vega\", \"5\")\n",
       "        .then(() => maybeLoadScript(\"vega-lite\", \"5.15.1\"))\n",
       "        .then(() => maybeLoadScript(\"vega-embed\", \"6\"))\n",
       "        .catch(showError)\n",
       "        .then(() => displayChart(vegaEmbed));\n",
       "    }\n",
       "  })({\"config\": {\"view\": {\"continuousWidth\": 300, \"continuousHeight\": 300}}, \"data\": {\"name\": \"data-d63dfb91f7922d2f5e05ee3c194e3f3f\"}, \"mark\": {\"type\": \"bar\"}, \"encoding\": {\"x\": {\"field\": \"continent\", \"type\": \"nominal\"}, \"y\": {\"field\": \"new_cases\", \"type\": \"quantitative\"}}, \"$schema\": \"https://vega.github.io/schema/vega-lite/v5.15.1.json\", \"datasets\": {\"data-d63dfb91f7922d2f5e05ee3c194e3f3f\": [{\"continent\": \"Africa\", \"total_cases\": 10832139723.0, \"new_cases\": 13115393.0, \"new_cases_smoothed\": 13115216.996, \"total_deaths\": 232323160.0, \"new_deaths\": 259034.0, \"new_deaths_smoothed\": 259034.498, \"total_cases_per_million\": 1762525589.466, \"new_cases_per_million\": 2650074.422, \"new_cases_smoothed_per_million\": 2650063.165, \"total_deaths_per_million\": 15385116.079, \"new_deaths_per_million\": 18075.236, \"new_deaths_smoothed_per_million\": 18072.967, \"reproduction_rate\": 41237.32, \"icu_patients\": 718183.0, \"icu_patients_per_million\": 12083.418, \"hosp_patients\": 5107144.0, \"hosp_patients_per_million\": 85269.86, \"weekly_icu_admissions\": 0.0, \"weekly_icu_admissions_per_million\": 0.0, \"weekly_hosp_admissions\": 521471.0, \"weekly_hosp_admissions_per_million\": 8706.584, \"total_tests\": 22213357604.0, \"new_tests\": 61532819.0, \"total_tests_per_thousand\": 894799.048, \"new_tests_per_thousand\": 2946.482, \"new_tests_smoothed\": 90963215.0, \"new_tests_smoothed_per_thousand\": 5559.793, \"positive_rate\": 1393.3409, \"tests_per_case\": 2064272.6, \"total_vaccinations\": 50385899040.0, \"people_vaccinated\": 29746042083.0, \"people_fully_vaccinated\": 22495658181.0, \"total_boosters\": 2541890034.0, \"new_vaccinations\": 117367074.0, \"new_vaccinations_smoothed\": 851393982.0, \"total_vaccinations_per_hundred\": 189749.09, \"people_vaccinated_per_hundred\": 110599.47, \"people_fully_vaccinated_per_hundred\": 85960.7, \"total_boosters_per_hundred\": 10782.48, \"new_vaccinations_smoothed_per_million\": 37485152.0, \"new_people_vaccinated_smoothed\": 548592009.0, \"new_people_vaccinated_smoothed_per_hundred\": 2247.852, \"stringency_index\": 2131520.7, \"population_density\": 7596863.5, \"median_age\": 1654133.9, \"aged_65_older\": 274425.285, \"aged_70_older\": 176015.49, \"gdp_per_capita\": 399604864.68, \"extreme_poverty\": 1936368.5, \"cardiovasc_death_rate\": 21486974.485, \"diabetes_prevalence\": 421026.14999999997, \"female_smokers\": 128943.5, \"male_smokers\": 1367410.5, \"handwashing_facilities\": 1532962.32, \"hospital_beds_per_thousand\": 83404.7, \"life_expectancy\": 5128240.51, \"human_development_index\": 41160.815, \"population\": 1975233019470.0, \"excess_mortality_cumulative_absolute\": 42119817.38532614, \"excess_mortality_cumulative\": 8492.75, \"excess_mortality\": 9326.78, \"excess_mortality_cumulative_per_million\": 952709.05365136}, {\"continent\": \"Asia\", \"total_cases\": 165400525816.0, \"new_cases\": 300747866.0, \"new_cases_smoothed\": 300745005.001, \"total_deaths\": 1320176142.0, \"new_deaths\": 1634108.0, \"new_deaths_smoothed\": 1633998.176, \"total_cases_per_million\": 4423519934.426, \"new_cases_per_million\": 6737160.69, \"new_cases_smoothed_per_million\": 6737063.536, \"total_deaths_per_million\": 26454942.144, \"new_deaths_per_million\": 31966.469, \"new_deaths_smoothed_per_million\": 31964.664, \"reproduction_rate\": 43268.07, \"icu_patients\": 905834.0, \"icu_patients_per_million\": 29202.33, \"hosp_patients\": 6789095.0, \"hosp_patients_per_million\": 222615.214, \"weekly_icu_admissions\": 76321.0, \"weekly_icu_admissions_per_million\": 5736.733, \"weekly_hosp_admissions\": 6649240.0, \"weekly_hosp_admissions_per_million\": 237873.056, \"total_tests\": 576014519305.0, \"new_tests\": 1798337488.0, \"total_tests_per_thousand\": 16107194.612, \"new_tests_per_thousand\": 60790.714, \"new_tests_smoothed\": 11018265047.0, \"new_tests_smoothed_per_thousand\": 78680.775, \"positive_rate\": 1939.5681, \"tests_per_case\": 220738102.1, \"total_vaccinations\": 4068114813165.0, \"people_vaccinated\": 1215622225872.0, \"people_fully_vaccinated\": 1035761304756.0, \"total_boosters\": 274402350172.0, \"new_vaccinations\": 7550313160.0, \"new_vaccinations_smoothed\": 9068783177.0, \"total_vaccinations_per_hundred\": 2235017.52, \"people_vaccinated_per_hundred\": 931160.67, \"people_fully_vaccinated_per_hundred\": 816869.54, \"total_boosters_per_hundred\": 343800.92, \"new_vaccinations_smoothed_per_million\": 90902915.0, \"new_people_vaccinated_smoothed\": 3062291415.0, \"new_people_vaccinated_smoothed_per_hundred\": 3428.853, \"stringency_index\": 2393659.13, \"population_density\": 52982946.964999996, \"median_age\": 2095888.9, \"aged_65_older\": 436028.562, \"aged_70_older\": 280179.399, \"gdp_per_capita\": 1531452656.727, \"extreme_poverty\": 223713.6, \"cardiovasc_death_rate\": 19680168.846, \"diabetes_prevalence\": 596226.63, \"female_smokers\": 252904.9, \"male_smokers\": 2089380.2, \"handwashing_facilities\": 2602956.713, \"hospital_beds_per_thousand\": 201562.28, \"life_expectancy\": 5108179.18, \"human_development_index\": 48058.712999999996, \"population\": 6539239187090.0, \"excess_mortality_cumulative_absolute\": 47468254.68788824, \"excess_mortality_cumulative\": 15936.13, \"excess_mortality\": 20420.14, \"excess_mortality_cumulative_per_million\": 1572812.8699708}, {\"continent\": \"Europe\", \"total_cases\": 163791406970.0, \"new_cases\": 249783755.0, \"new_cases_smoothed\": 249759452.485, \"total_deaths\": 1754922849.0, \"new_deaths\": 2079783.0, \"new_deaths_smoothed\": 2079688.916, \"total_cases_per_million\": 13478889969.372, \"new_cases_per_million\": 20312238.682, \"new_cases_smoothed_per_million\": 20311649.438, \"total_deaths_per_million\": 110868655.612, \"new_deaths_per_million\": 133416.753, \"new_deaths_smoothed_per_million\": 133411.279, \"reproduction_rate\": 47085.74, \"icu_patients\": 10082572.0, \"icu_patients_per_million\": 427433.104, \"hosp_patients\": 87574537.0, \"hosp_patients_per_million\": 4403901.044, \"weekly_icu_admissions\": 2987848.0, \"weekly_icu_admissions_per_million\": 78799.223, \"weekly_hosp_admissions\": 45561318.0, \"weekly_hosp_admissions_per_million\": 1529367.316, \"total_tests\": 609317604566.0, \"new_tests\": 1954533982.0, \"total_tests_per_thousand\": 47790939.581, \"new_tests_per_thousand\": 157424.835, \"new_tests_smoothed\": 2344724520.0, \"new_tests_smoothed_per_thousand\": 175581.107, \"positive_rate\": 3191.2314, \"tests_per_case\": 1897861.9, \"total_vaccinations\": 705742250005.0, \"people_vaccinated\": 291189670462.0, \"people_fully_vaccinated\": 259659037119.0, \"total_boosters\": 154201464469.0, \"new_vaccinations\": 1265566424.0, \"new_vaccinations_smoothed\": 1562082572.0, \"total_vaccinations_per_hundred\": 3388971.76, \"people_vaccinated_per_hundred\": 1373977.76, \"people_fully_vaccinated_per_hundred\": 1181489.4, \"total_boosters_per_hundred\": 660188.58, \"new_vaccinations_smoothed_per_million\": 103068443.0, \"new_people_vaccinated_smoothed\": 573691458.0, \"new_people_vaccinated_smoothed_per_hundred\": 3688.44, \"stringency_index\": 1887589.35, \"population_density\": 41663938.023, \"median_age\": 2330893.7, \"aged_65_older\": 981764.819, \"aged_70_older\": 635881.434, \"gdp_per_capita\": 1940763285.141, \"extreme_poverty\": 37536.2, \"cardiovasc_death_rate\": 13070840.865, \"diabetes_prevalence\": 399695.83, \"female_smokers\": 1296623.6, \"male_smokers\": 1971991.4, \"handwashing_facilities\": 390378.87, \"hospital_beds_per_thousand\": 307604.214, \"life_expectancy\": 5304114.44, \"human_development_index\": 51187.162, \"population\": 1122323324322.0, \"excess_mortality_cumulative_absolute\": 220049542.84414822, \"excess_mortality_cumulative\": 51207.94, \"excess_mortality\": 59868.51, \"excess_mortality_cumulative_per_million\": 12705729.377607}, {\"continent\": \"North America\", \"total_cases\": 91193846632.0, \"new_cases\": 124498040.0, \"new_cases_smoothed\": 124497848.4, \"total_deaths\": 1403034025.0, \"new_deaths\": 1606145.0, \"new_deaths_smoothed\": 1605110.209, \"total_cases_per_million\": 6221768013.028, \"new_cases_per_million\": 9493358.113, \"new_cases_smoothed_per_million\": 9492768.203, \"total_deaths_per_million\": 47775421.101, \"new_deaths_per_million\": 62211.04, \"new_deaths_smoothed_per_million\": 62191.371, \"reproduction_rate\": 19165.89, \"icu_patients\": 10728351.0, \"icu_patients_per_million\": 42889.677, \"hosp_patients\": 51702609.0, \"hosp_patients_per_million\": 248945.449, \"weekly_icu_admissions\": 0.0, \"weekly_icu_admissions_per_million\": 0.0, \"weekly_hosp_admissions\": 46363888.0, \"weekly_hosp_admissions_per_million\": 137053.742, \"total_tests\": 381789868848.0, \"new_tests\": 1017159368.0, \"total_tests_per_thousand\": 4101852.242, \"new_tests_per_thousand\": 11816.37, \"new_tests_smoothed\": 1019706497.0, \"new_tests_smoothed_per_thousand\": 17261.03, \"positive_rate\": 1625.1374, \"tests_per_case\": 339573.4, \"total_vaccinations\": 533963283631.0, \"people_vaccinated\": 239084927219.0, \"people_fully_vaccinated\": 202570754341.0, \"total_boosters\": 46634832815.0, \"new_vaccinations\": 998301280.0, \"new_vaccinations_smoothed\": 1148268705.0, \"total_vaccinations_per_hundred\": 985429.12, \"people_vaccinated_per_hundred\": 430263.53, \"people_fully_vaccinated_per_hundred\": 369252.25, \"total_boosters_per_hundred\": 96864.98, \"new_vaccinations_smoothed_per_million\": 49556669.0, \"new_people_vaccinated_smoothed\": 458792704.0, \"new_people_vaccinated_smoothed_per_hundred\": 2061.515, \"stringency_index\": 1035444.26, \"population_density\": 13184804.148, \"median_age\": 1270560.3, \"aged_65_older\": 344372.424, \"aged_70_older\": 233031.264, \"gdp_per_capita\": 809868485.019, \"extreme_poverty\": 87121.5, \"cardiovasc_death_rate\": 7096684.081, \"diabetes_prevalence\": 467212.08999999997, \"female_smokers\": 124802.3, \"male_smokers\": 370807.3, \"handwashing_facilities\": 1396306.939, \"hospital_beds_per_thousand\": 73795.56, \"life_expectancy\": 4277701.94, \"human_development_index\": 24082.553, \"population\": 831703379644.0, \"excess_mortality_cumulative_absolute\": 250420755.88644084, \"excess_mortality_cumulative\": 17836.71, \"excess_mortality\": 22243.68, \"excess_mortality_cumulative_per_million\": 2744000.73171963}, {\"continent\": \"Oceania\", \"total_cases\": 7324359444.0, \"new_cases\": 14499548.0, \"new_cases_smoothed\": 14499525.918, \"total_deaths\": 14622330.0, \"new_deaths\": 29996.0, \"new_deaths_smoothed\": 29996.274, \"total_cases_per_million\": 2737762209.447, \"new_cases_per_million\": 5594498.667, \"new_cases_smoothed_per_million\": 5594300.475, \"total_deaths_per_million\": 8476632.253, \"new_deaths_per_million\": 12921.217, \"new_deaths_smoothed_per_million\": 12921.219, \"reproduction_rate\": 4425.14, \"icu_patients\": 95081.0, \"icu_patients_per_million\": 3632.11, \"hosp_patients\": 1768615.0, \"hosp_patients_per_million\": 67562.614, \"weekly_icu_admissions\": 0.0, \"weekly_icu_admissions_per_million\": 0.0, \"weekly_hosp_admissions\": 0.0, \"weekly_hosp_admissions_per_million\": 0.0, \"total_tests\": 24123978485.0, \"new_tests\": 78409471.0, \"total_tests_per_thousand\": 2274064.393, \"new_tests_per_thousand\": 7262.597, \"new_tests_smoothed\": 81371985.0, \"new_tests_smoothed_per_thousand\": 8744.989, \"positive_rate\": 188.2555, \"tests_per_case\": 1606640.1, \"total_vaccinations\": 25266886911.0, \"people_vaccinated\": 7713764498.0, \"people_fully_vaccinated\": 7968658443.0, \"total_boosters\": 4926422891.0, \"new_vaccinations\": 74542164.0, \"new_vaccinations_smoothed\": 82636022.0, \"total_vaccinations_per_hundred\": 252421.03, \"people_vaccinated_per_hundred\": 98100.59, \"people_fully_vaccinated_per_hundred\": 89828.62, \"total_boosters_per_hundred\": 45290.36, \"new_vaccinations_smoothed_per_million\": 32294290.0, \"new_people_vaccinated_smoothed\": 28946969.0, \"new_people_vaccinated_smoothed_per_hundred\": 1226.192, \"stringency_index\": 348205.39, \"population_density\": 3933944.305, \"median_age\": 497076.5, \"aged_65_older\": 133195.45, \"aged_70_older\": 81314.735, \"gdp_per_capita\": 205875643.49, \"extreme_poverty\": 82407.5, \"cardiovasc_death_rate\": 6965832.57, \"diabetes_prevalence\": 416261.75, \"female_smokers\": 248469.0, \"male_smokers\": 488628.0, \"handwashing_facilities\": 198887.38499999998, \"hospital_beds_per_thousand\": 37602.75, \"life_expectancy\": 2346286.9499999997, \"human_development_index\": 11868.065, \"population\": 62378886195.0, \"excess_mortality_cumulative_absolute\": 981321.8371296, \"excess_mortality_cumulative\": -165.09, \"excess_mortality\": 1986.96, \"excess_mortality_cumulative_per_million\": 30690.82865894}, {\"continent\": \"South America\", \"total_cases\": 53704321099.0, \"new_cases\": 68843261.0, \"new_cases_smoothed\": 68805480.618, \"total_deaths\": 1257348870.0, \"new_deaths\": 1359940.0, \"new_deaths_smoothed\": 1359925.744, \"total_cases_per_million\": 1810406882.264, \"new_cases_per_million\": 2564586.64, \"new_cases_smoothed_per_million\": 2564144.105, \"total_deaths_per_million\": 29718686.66, \"new_deaths_per_million\": 33187.727, \"new_deaths_smoothed_per_million\": 33186.509, \"reproduction_rate\": 12126.19, \"icu_patients\": 2934855.0, \"icu_patients_per_million\": 95905.87, \"hosp_patients\": 368769.0, \"hosp_patients_per_million\": 30167.332, \"weekly_icu_admissions\": 400025.0, \"weekly_icu_admissions_per_million\": 20405.537, \"weekly_hosp_admissions\": 1611040.0, \"weekly_hosp_admissions_per_million\": 82180.246, \"total_tests\": 61969482409.0, \"new_tests\": 163548802.0, \"total_tests_per_thousand\": 2204962.904, \"new_tests_per_thousand\": 6512.74, \"new_tests_smoothed\": 226542318.0, \"new_tests_smoothed_per_thousand\": 8009.504, \"positive_rate\": 1078.9014, \"tests_per_case\": 131498.0, \"total_vaccinations\": 409726995519.0, \"people_vaccinated\": 177407891541.0, \"people_fully_vaccinated\": 147547698252.0, \"total_boosters\": 83280753301.0, \"new_vaccinations\": 845304114.0, \"new_vaccinations_smoothed\": 959411175.0, \"total_vaccinations_per_hundred\": 896881.29, \"people_vaccinated_per_hundred\": 375723.93, \"people_fully_vaccinated_per_hundred\": 319900.54, \"total_boosters_per_hundred\": 201097.82, \"new_vaccinations_smoothed_per_million\": 24555878.0, \"new_people_vaccinated_smoothed\": 375027701.0, \"new_people_vaccinated_smoothed_per_hundred\": 1003.272, \"stringency_index\": 646050.18, \"population_density\": 405447.14499999996, \"median_age\": 537340.9, \"aged_65_older\": 137604.946, \"aged_70_older\": 90228.908, \"gdp_per_capita\": 230092270.078, \"extreme_poverty\": 35734.3, \"cardiovasc_death_rate\": 3113866.267, \"diabetes_prevalence\": 129833.98, \"female_smokers\": 136330.4, \"male_smokers\": 273335.8, \"handwashing_facilities\": 548382.4400000001, \"hospital_beds_per_thousand\": 34388.5, \"life_expectancy\": 1471766.05, \"human_development_index\": 12686.337, \"population\": 605085543859.0, \"excess_mortality_cumulative_absolute\": 81734724.3712067, \"excess_mortality_cumulative\": 25205.84, \"excess_mortality\": 24298.72, \"excess_mortality_cumulative_per_million\": 2291753.56918554}]}}, {\"mode\": \"vega-lite\"});\n",
       "</script>"
      ],
      "text/plain": [
       "alt.Chart(...)"
      ]
     },
     "execution_count": 17,
     "metadata": {},
     "output_type": "execute_result"
    }
   ],
   "source": [
    "alt.Chart(data).mark_bar().encode(x='continent', y='new_cases')"
   ]
  },
  {
   "cell_type": "markdown",
   "metadata": {
    "colab_type": "text",
    "id": "esZqfT7CCsz2"
   },
   "source": [
    "✏️ *Change above chart into a horizontal bar chart of new cases:* "
   ]
  },
  {
   "cell_type": "code",
   "execution_count": 18,
   "metadata": {
    "tags": []
   },
   "outputs": [
    {
     "data": {
      "text/html": [
       "\n",
       "<style>\n",
       "  #altair-viz-e9afe8f2fbf1454381916f270b124497.vega-embed {\n",
       "    width: 100%;\n",
       "    display: flex;\n",
       "  }\n",
       "\n",
       "  #altair-viz-e9afe8f2fbf1454381916f270b124497.vega-embed details,\n",
       "  #altair-viz-e9afe8f2fbf1454381916f270b124497.vega-embed details summary {\n",
       "    position: relative;\n",
       "  }\n",
       "</style>\n",
       "<div id=\"altair-viz-e9afe8f2fbf1454381916f270b124497\"></div>\n",
       "<script type=\"text/javascript\">\n",
       "  var VEGA_DEBUG = (typeof VEGA_DEBUG == \"undefined\") ? {} : VEGA_DEBUG;\n",
       "  (function(spec, embedOpt){\n",
       "    let outputDiv = document.currentScript.previousElementSibling;\n",
       "    if (outputDiv.id !== \"altair-viz-e9afe8f2fbf1454381916f270b124497\") {\n",
       "      outputDiv = document.getElementById(\"altair-viz-e9afe8f2fbf1454381916f270b124497\");\n",
       "    }\n",
       "    const paths = {\n",
       "      \"vega\": \"https://cdn.jsdelivr.net/npm/vega@5?noext\",\n",
       "      \"vega-lib\": \"https://cdn.jsdelivr.net/npm/vega-lib?noext\",\n",
       "      \"vega-lite\": \"https://cdn.jsdelivr.net/npm/vega-lite@5.15.1?noext\",\n",
       "      \"vega-embed\": \"https://cdn.jsdelivr.net/npm/vega-embed@6?noext\",\n",
       "    };\n",
       "\n",
       "    function maybeLoadScript(lib, version) {\n",
       "      var key = `${lib.replace(\"-\", \"\")}_version`;\n",
       "      return (VEGA_DEBUG[key] == version) ?\n",
       "        Promise.resolve(paths[lib]) :\n",
       "        new Promise(function(resolve, reject) {\n",
       "          var s = document.createElement('script');\n",
       "          document.getElementsByTagName(\"head\")[0].appendChild(s);\n",
       "          s.async = true;\n",
       "          s.onload = () => {\n",
       "            VEGA_DEBUG[key] = version;\n",
       "            return resolve(paths[lib]);\n",
       "          };\n",
       "          s.onerror = () => reject(`Error loading script: ${paths[lib]}`);\n",
       "          s.src = paths[lib];\n",
       "        });\n",
       "    }\n",
       "\n",
       "    function showError(err) {\n",
       "      outputDiv.innerHTML = `<div class=\"error\" style=\"color:red;\">${err}</div>`;\n",
       "      throw err;\n",
       "    }\n",
       "\n",
       "    function displayChart(vegaEmbed) {\n",
       "      vegaEmbed(outputDiv, spec, embedOpt)\n",
       "        .catch(err => showError(`Javascript Error: ${err.message}<br>This usually means there's a typo in your chart specification. See the javascript console for the full traceback.`));\n",
       "    }\n",
       "\n",
       "    if(typeof define === \"function\" && define.amd) {\n",
       "      requirejs.config({paths});\n",
       "      require([\"vega-embed\"], displayChart, err => showError(`Error loading script: ${err.message}`));\n",
       "    } else {\n",
       "      maybeLoadScript(\"vega\", \"5\")\n",
       "        .then(() => maybeLoadScript(\"vega-lite\", \"5.15.1\"))\n",
       "        .then(() => maybeLoadScript(\"vega-embed\", \"6\"))\n",
       "        .catch(showError)\n",
       "        .then(() => displayChart(vegaEmbed));\n",
       "    }\n",
       "  })({\"config\": {\"view\": {\"continuousWidth\": 300, \"continuousHeight\": 300}}, \"data\": {\"name\": \"data-d63dfb91f7922d2f5e05ee3c194e3f3f\"}, \"mark\": {\"type\": \"bar\"}, \"encoding\": {\"x\": {\"field\": \"new_cases\", \"type\": \"quantitative\"}, \"y\": {\"field\": \"continent\", \"type\": \"nominal\"}}, \"$schema\": \"https://vega.github.io/schema/vega-lite/v5.15.1.json\", \"datasets\": {\"data-d63dfb91f7922d2f5e05ee3c194e3f3f\": [{\"continent\": \"Africa\", \"total_cases\": 10832139723.0, \"new_cases\": 13115393.0, \"new_cases_smoothed\": 13115216.996, \"total_deaths\": 232323160.0, \"new_deaths\": 259034.0, \"new_deaths_smoothed\": 259034.498, \"total_cases_per_million\": 1762525589.466, \"new_cases_per_million\": 2650074.422, \"new_cases_smoothed_per_million\": 2650063.165, \"total_deaths_per_million\": 15385116.079, \"new_deaths_per_million\": 18075.236, \"new_deaths_smoothed_per_million\": 18072.967, \"reproduction_rate\": 41237.32, \"icu_patients\": 718183.0, \"icu_patients_per_million\": 12083.418, \"hosp_patients\": 5107144.0, \"hosp_patients_per_million\": 85269.86, \"weekly_icu_admissions\": 0.0, \"weekly_icu_admissions_per_million\": 0.0, \"weekly_hosp_admissions\": 521471.0, \"weekly_hosp_admissions_per_million\": 8706.584, \"total_tests\": 22213357604.0, \"new_tests\": 61532819.0, \"total_tests_per_thousand\": 894799.048, \"new_tests_per_thousand\": 2946.482, \"new_tests_smoothed\": 90963215.0, \"new_tests_smoothed_per_thousand\": 5559.793, \"positive_rate\": 1393.3409, \"tests_per_case\": 2064272.6, \"total_vaccinations\": 50385899040.0, \"people_vaccinated\": 29746042083.0, \"people_fully_vaccinated\": 22495658181.0, \"total_boosters\": 2541890034.0, \"new_vaccinations\": 117367074.0, \"new_vaccinations_smoothed\": 851393982.0, \"total_vaccinations_per_hundred\": 189749.09, \"people_vaccinated_per_hundred\": 110599.47, \"people_fully_vaccinated_per_hundred\": 85960.7, \"total_boosters_per_hundred\": 10782.48, \"new_vaccinations_smoothed_per_million\": 37485152.0, \"new_people_vaccinated_smoothed\": 548592009.0, \"new_people_vaccinated_smoothed_per_hundred\": 2247.852, \"stringency_index\": 2131520.7, \"population_density\": 7596863.5, \"median_age\": 1654133.9, \"aged_65_older\": 274425.285, \"aged_70_older\": 176015.49, \"gdp_per_capita\": 399604864.68, \"extreme_poverty\": 1936368.5, \"cardiovasc_death_rate\": 21486974.485, \"diabetes_prevalence\": 421026.14999999997, \"female_smokers\": 128943.5, \"male_smokers\": 1367410.5, \"handwashing_facilities\": 1532962.32, \"hospital_beds_per_thousand\": 83404.7, \"life_expectancy\": 5128240.51, \"human_development_index\": 41160.815, \"population\": 1975233019470.0, \"excess_mortality_cumulative_absolute\": 42119817.38532614, \"excess_mortality_cumulative\": 8492.75, \"excess_mortality\": 9326.78, \"excess_mortality_cumulative_per_million\": 952709.05365136}, {\"continent\": \"Asia\", \"total_cases\": 165400525816.0, \"new_cases\": 300747866.0, \"new_cases_smoothed\": 300745005.001, \"total_deaths\": 1320176142.0, \"new_deaths\": 1634108.0, \"new_deaths_smoothed\": 1633998.176, \"total_cases_per_million\": 4423519934.426, \"new_cases_per_million\": 6737160.69, \"new_cases_smoothed_per_million\": 6737063.536, \"total_deaths_per_million\": 26454942.144, \"new_deaths_per_million\": 31966.469, \"new_deaths_smoothed_per_million\": 31964.664, \"reproduction_rate\": 43268.07, \"icu_patients\": 905834.0, \"icu_patients_per_million\": 29202.33, \"hosp_patients\": 6789095.0, \"hosp_patients_per_million\": 222615.214, \"weekly_icu_admissions\": 76321.0, \"weekly_icu_admissions_per_million\": 5736.733, \"weekly_hosp_admissions\": 6649240.0, \"weekly_hosp_admissions_per_million\": 237873.056, \"total_tests\": 576014519305.0, \"new_tests\": 1798337488.0, \"total_tests_per_thousand\": 16107194.612, \"new_tests_per_thousand\": 60790.714, \"new_tests_smoothed\": 11018265047.0, \"new_tests_smoothed_per_thousand\": 78680.775, \"positive_rate\": 1939.5681, \"tests_per_case\": 220738102.1, \"total_vaccinations\": 4068114813165.0, \"people_vaccinated\": 1215622225872.0, \"people_fully_vaccinated\": 1035761304756.0, \"total_boosters\": 274402350172.0, \"new_vaccinations\": 7550313160.0, \"new_vaccinations_smoothed\": 9068783177.0, \"total_vaccinations_per_hundred\": 2235017.52, \"people_vaccinated_per_hundred\": 931160.67, \"people_fully_vaccinated_per_hundred\": 816869.54, \"total_boosters_per_hundred\": 343800.92, \"new_vaccinations_smoothed_per_million\": 90902915.0, \"new_people_vaccinated_smoothed\": 3062291415.0, \"new_people_vaccinated_smoothed_per_hundred\": 3428.853, \"stringency_index\": 2393659.13, \"population_density\": 52982946.964999996, \"median_age\": 2095888.9, \"aged_65_older\": 436028.562, \"aged_70_older\": 280179.399, \"gdp_per_capita\": 1531452656.727, \"extreme_poverty\": 223713.6, \"cardiovasc_death_rate\": 19680168.846, \"diabetes_prevalence\": 596226.63, \"female_smokers\": 252904.9, \"male_smokers\": 2089380.2, \"handwashing_facilities\": 2602956.713, \"hospital_beds_per_thousand\": 201562.28, \"life_expectancy\": 5108179.18, \"human_development_index\": 48058.712999999996, \"population\": 6539239187090.0, \"excess_mortality_cumulative_absolute\": 47468254.68788824, \"excess_mortality_cumulative\": 15936.13, \"excess_mortality\": 20420.14, \"excess_mortality_cumulative_per_million\": 1572812.8699708}, {\"continent\": \"Europe\", \"total_cases\": 163791406970.0, \"new_cases\": 249783755.0, \"new_cases_smoothed\": 249759452.485, \"total_deaths\": 1754922849.0, \"new_deaths\": 2079783.0, \"new_deaths_smoothed\": 2079688.916, \"total_cases_per_million\": 13478889969.372, \"new_cases_per_million\": 20312238.682, \"new_cases_smoothed_per_million\": 20311649.438, \"total_deaths_per_million\": 110868655.612, \"new_deaths_per_million\": 133416.753, \"new_deaths_smoothed_per_million\": 133411.279, \"reproduction_rate\": 47085.74, \"icu_patients\": 10082572.0, \"icu_patients_per_million\": 427433.104, \"hosp_patients\": 87574537.0, \"hosp_patients_per_million\": 4403901.044, \"weekly_icu_admissions\": 2987848.0, \"weekly_icu_admissions_per_million\": 78799.223, \"weekly_hosp_admissions\": 45561318.0, \"weekly_hosp_admissions_per_million\": 1529367.316, \"total_tests\": 609317604566.0, \"new_tests\": 1954533982.0, \"total_tests_per_thousand\": 47790939.581, \"new_tests_per_thousand\": 157424.835, \"new_tests_smoothed\": 2344724520.0, \"new_tests_smoothed_per_thousand\": 175581.107, \"positive_rate\": 3191.2314, \"tests_per_case\": 1897861.9, \"total_vaccinations\": 705742250005.0, \"people_vaccinated\": 291189670462.0, \"people_fully_vaccinated\": 259659037119.0, \"total_boosters\": 154201464469.0, \"new_vaccinations\": 1265566424.0, \"new_vaccinations_smoothed\": 1562082572.0, \"total_vaccinations_per_hundred\": 3388971.76, \"people_vaccinated_per_hundred\": 1373977.76, \"people_fully_vaccinated_per_hundred\": 1181489.4, \"total_boosters_per_hundred\": 660188.58, \"new_vaccinations_smoothed_per_million\": 103068443.0, \"new_people_vaccinated_smoothed\": 573691458.0, \"new_people_vaccinated_smoothed_per_hundred\": 3688.44, \"stringency_index\": 1887589.35, \"population_density\": 41663938.023, \"median_age\": 2330893.7, \"aged_65_older\": 981764.819, \"aged_70_older\": 635881.434, \"gdp_per_capita\": 1940763285.141, \"extreme_poverty\": 37536.2, \"cardiovasc_death_rate\": 13070840.865, \"diabetes_prevalence\": 399695.83, \"female_smokers\": 1296623.6, \"male_smokers\": 1971991.4, \"handwashing_facilities\": 390378.87, \"hospital_beds_per_thousand\": 307604.214, \"life_expectancy\": 5304114.44, \"human_development_index\": 51187.162, \"population\": 1122323324322.0, \"excess_mortality_cumulative_absolute\": 220049542.84414822, \"excess_mortality_cumulative\": 51207.94, \"excess_mortality\": 59868.51, \"excess_mortality_cumulative_per_million\": 12705729.377607}, {\"continent\": \"North America\", \"total_cases\": 91193846632.0, \"new_cases\": 124498040.0, \"new_cases_smoothed\": 124497848.4, \"total_deaths\": 1403034025.0, \"new_deaths\": 1606145.0, \"new_deaths_smoothed\": 1605110.209, \"total_cases_per_million\": 6221768013.028, \"new_cases_per_million\": 9493358.113, \"new_cases_smoothed_per_million\": 9492768.203, \"total_deaths_per_million\": 47775421.101, \"new_deaths_per_million\": 62211.04, \"new_deaths_smoothed_per_million\": 62191.371, \"reproduction_rate\": 19165.89, \"icu_patients\": 10728351.0, \"icu_patients_per_million\": 42889.677, \"hosp_patients\": 51702609.0, \"hosp_patients_per_million\": 248945.449, \"weekly_icu_admissions\": 0.0, \"weekly_icu_admissions_per_million\": 0.0, \"weekly_hosp_admissions\": 46363888.0, \"weekly_hosp_admissions_per_million\": 137053.742, \"total_tests\": 381789868848.0, \"new_tests\": 1017159368.0, \"total_tests_per_thousand\": 4101852.242, \"new_tests_per_thousand\": 11816.37, \"new_tests_smoothed\": 1019706497.0, \"new_tests_smoothed_per_thousand\": 17261.03, \"positive_rate\": 1625.1374, \"tests_per_case\": 339573.4, \"total_vaccinations\": 533963283631.0, \"people_vaccinated\": 239084927219.0, \"people_fully_vaccinated\": 202570754341.0, \"total_boosters\": 46634832815.0, \"new_vaccinations\": 998301280.0, \"new_vaccinations_smoothed\": 1148268705.0, \"total_vaccinations_per_hundred\": 985429.12, \"people_vaccinated_per_hundred\": 430263.53, \"people_fully_vaccinated_per_hundred\": 369252.25, \"total_boosters_per_hundred\": 96864.98, \"new_vaccinations_smoothed_per_million\": 49556669.0, \"new_people_vaccinated_smoothed\": 458792704.0, \"new_people_vaccinated_smoothed_per_hundred\": 2061.515, \"stringency_index\": 1035444.26, \"population_density\": 13184804.148, \"median_age\": 1270560.3, \"aged_65_older\": 344372.424, \"aged_70_older\": 233031.264, \"gdp_per_capita\": 809868485.019, \"extreme_poverty\": 87121.5, \"cardiovasc_death_rate\": 7096684.081, \"diabetes_prevalence\": 467212.08999999997, \"female_smokers\": 124802.3, \"male_smokers\": 370807.3, \"handwashing_facilities\": 1396306.939, \"hospital_beds_per_thousand\": 73795.56, \"life_expectancy\": 4277701.94, \"human_development_index\": 24082.553, \"population\": 831703379644.0, \"excess_mortality_cumulative_absolute\": 250420755.88644084, \"excess_mortality_cumulative\": 17836.71, \"excess_mortality\": 22243.68, \"excess_mortality_cumulative_per_million\": 2744000.73171963}, {\"continent\": \"Oceania\", \"total_cases\": 7324359444.0, \"new_cases\": 14499548.0, \"new_cases_smoothed\": 14499525.918, \"total_deaths\": 14622330.0, \"new_deaths\": 29996.0, \"new_deaths_smoothed\": 29996.274, \"total_cases_per_million\": 2737762209.447, \"new_cases_per_million\": 5594498.667, \"new_cases_smoothed_per_million\": 5594300.475, \"total_deaths_per_million\": 8476632.253, \"new_deaths_per_million\": 12921.217, \"new_deaths_smoothed_per_million\": 12921.219, \"reproduction_rate\": 4425.14, \"icu_patients\": 95081.0, \"icu_patients_per_million\": 3632.11, \"hosp_patients\": 1768615.0, \"hosp_patients_per_million\": 67562.614, \"weekly_icu_admissions\": 0.0, \"weekly_icu_admissions_per_million\": 0.0, \"weekly_hosp_admissions\": 0.0, \"weekly_hosp_admissions_per_million\": 0.0, \"total_tests\": 24123978485.0, \"new_tests\": 78409471.0, \"total_tests_per_thousand\": 2274064.393, \"new_tests_per_thousand\": 7262.597, \"new_tests_smoothed\": 81371985.0, \"new_tests_smoothed_per_thousand\": 8744.989, \"positive_rate\": 188.2555, \"tests_per_case\": 1606640.1, \"total_vaccinations\": 25266886911.0, \"people_vaccinated\": 7713764498.0, \"people_fully_vaccinated\": 7968658443.0, \"total_boosters\": 4926422891.0, \"new_vaccinations\": 74542164.0, \"new_vaccinations_smoothed\": 82636022.0, \"total_vaccinations_per_hundred\": 252421.03, \"people_vaccinated_per_hundred\": 98100.59, \"people_fully_vaccinated_per_hundred\": 89828.62, \"total_boosters_per_hundred\": 45290.36, \"new_vaccinations_smoothed_per_million\": 32294290.0, \"new_people_vaccinated_smoothed\": 28946969.0, \"new_people_vaccinated_smoothed_per_hundred\": 1226.192, \"stringency_index\": 348205.39, \"population_density\": 3933944.305, \"median_age\": 497076.5, \"aged_65_older\": 133195.45, \"aged_70_older\": 81314.735, \"gdp_per_capita\": 205875643.49, \"extreme_poverty\": 82407.5, \"cardiovasc_death_rate\": 6965832.57, \"diabetes_prevalence\": 416261.75, \"female_smokers\": 248469.0, \"male_smokers\": 488628.0, \"handwashing_facilities\": 198887.38499999998, \"hospital_beds_per_thousand\": 37602.75, \"life_expectancy\": 2346286.9499999997, \"human_development_index\": 11868.065, \"population\": 62378886195.0, \"excess_mortality_cumulative_absolute\": 981321.8371296, \"excess_mortality_cumulative\": -165.09, \"excess_mortality\": 1986.96, \"excess_mortality_cumulative_per_million\": 30690.82865894}, {\"continent\": \"South America\", \"total_cases\": 53704321099.0, \"new_cases\": 68843261.0, \"new_cases_smoothed\": 68805480.618, \"total_deaths\": 1257348870.0, \"new_deaths\": 1359940.0, \"new_deaths_smoothed\": 1359925.744, \"total_cases_per_million\": 1810406882.264, \"new_cases_per_million\": 2564586.64, \"new_cases_smoothed_per_million\": 2564144.105, \"total_deaths_per_million\": 29718686.66, \"new_deaths_per_million\": 33187.727, \"new_deaths_smoothed_per_million\": 33186.509, \"reproduction_rate\": 12126.19, \"icu_patients\": 2934855.0, \"icu_patients_per_million\": 95905.87, \"hosp_patients\": 368769.0, \"hosp_patients_per_million\": 30167.332, \"weekly_icu_admissions\": 400025.0, \"weekly_icu_admissions_per_million\": 20405.537, \"weekly_hosp_admissions\": 1611040.0, \"weekly_hosp_admissions_per_million\": 82180.246, \"total_tests\": 61969482409.0, \"new_tests\": 163548802.0, \"total_tests_per_thousand\": 2204962.904, \"new_tests_per_thousand\": 6512.74, \"new_tests_smoothed\": 226542318.0, \"new_tests_smoothed_per_thousand\": 8009.504, \"positive_rate\": 1078.9014, \"tests_per_case\": 131498.0, \"total_vaccinations\": 409726995519.0, \"people_vaccinated\": 177407891541.0, \"people_fully_vaccinated\": 147547698252.0, \"total_boosters\": 83280753301.0, \"new_vaccinations\": 845304114.0, \"new_vaccinations_smoothed\": 959411175.0, \"total_vaccinations_per_hundred\": 896881.29, \"people_vaccinated_per_hundred\": 375723.93, \"people_fully_vaccinated_per_hundred\": 319900.54, \"total_boosters_per_hundred\": 201097.82, \"new_vaccinations_smoothed_per_million\": 24555878.0, \"new_people_vaccinated_smoothed\": 375027701.0, \"new_people_vaccinated_smoothed_per_hundred\": 1003.272, \"stringency_index\": 646050.18, \"population_density\": 405447.14499999996, \"median_age\": 537340.9, \"aged_65_older\": 137604.946, \"aged_70_older\": 90228.908, \"gdp_per_capita\": 230092270.078, \"extreme_poverty\": 35734.3, \"cardiovasc_death_rate\": 3113866.267, \"diabetes_prevalence\": 129833.98, \"female_smokers\": 136330.4, \"male_smokers\": 273335.8, \"handwashing_facilities\": 548382.4400000001, \"hospital_beds_per_thousand\": 34388.5, \"life_expectancy\": 1471766.05, \"human_development_index\": 12686.337, \"population\": 605085543859.0, \"excess_mortality_cumulative_absolute\": 81734724.3712067, \"excess_mortality_cumulative\": 25205.84, \"excess_mortality\": 24298.72, \"excess_mortality_cumulative_per_million\": 2291753.56918554}]}}, {\"mode\": \"vega-lite\"});\n",
       "</script>"
      ],
      "text/plain": [
       "alt.Chart(...)"
      ]
     },
     "execution_count": 18,
     "metadata": {},
     "output_type": "execute_result"
    }
   ],
   "source": [
    "alt.Chart(data).mark_bar().encode(y='continent', x='new_cases')"
   ]
  },
  {
   "cell_type": "code",
   "execution_count": 19,
   "metadata": {
    "colab": {},
    "colab_type": "code",
    "id": "Kr-2sFJtC81k"
   },
   "outputs": [
    {
     "data": {
      "text/html": [
       "\n",
       "<style>\n",
       "  #altair-viz-a6272950de84451782fb1ffb12185ebe.vega-embed {\n",
       "    width: 100%;\n",
       "    display: flex;\n",
       "  }\n",
       "\n",
       "  #altair-viz-a6272950de84451782fb1ffb12185ebe.vega-embed details,\n",
       "  #altair-viz-a6272950de84451782fb1ffb12185ebe.vega-embed details summary {\n",
       "    position: relative;\n",
       "  }\n",
       "</style>\n",
       "<div id=\"altair-viz-a6272950de84451782fb1ffb12185ebe\"></div>\n",
       "<script type=\"text/javascript\">\n",
       "  var VEGA_DEBUG = (typeof VEGA_DEBUG == \"undefined\") ? {} : VEGA_DEBUG;\n",
       "  (function(spec, embedOpt){\n",
       "    let outputDiv = document.currentScript.previousElementSibling;\n",
       "    if (outputDiv.id !== \"altair-viz-a6272950de84451782fb1ffb12185ebe\") {\n",
       "      outputDiv = document.getElementById(\"altair-viz-a6272950de84451782fb1ffb12185ebe\");\n",
       "    }\n",
       "    const paths = {\n",
       "      \"vega\": \"https://cdn.jsdelivr.net/npm/vega@5?noext\",\n",
       "      \"vega-lib\": \"https://cdn.jsdelivr.net/npm/vega-lib?noext\",\n",
       "      \"vega-lite\": \"https://cdn.jsdelivr.net/npm/vega-lite@5.15.1?noext\",\n",
       "      \"vega-embed\": \"https://cdn.jsdelivr.net/npm/vega-embed@6?noext\",\n",
       "    };\n",
       "\n",
       "    function maybeLoadScript(lib, version) {\n",
       "      var key = `${lib.replace(\"-\", \"\")}_version`;\n",
       "      return (VEGA_DEBUG[key] == version) ?\n",
       "        Promise.resolve(paths[lib]) :\n",
       "        new Promise(function(resolve, reject) {\n",
       "          var s = document.createElement('script');\n",
       "          document.getElementsByTagName(\"head\")[0].appendChild(s);\n",
       "          s.async = true;\n",
       "          s.onload = () => {\n",
       "            VEGA_DEBUG[key] = version;\n",
       "            return resolve(paths[lib]);\n",
       "          };\n",
       "          s.onerror = () => reject(`Error loading script: ${paths[lib]}`);\n",
       "          s.src = paths[lib];\n",
       "        });\n",
       "    }\n",
       "\n",
       "    function showError(err) {\n",
       "      outputDiv.innerHTML = `<div class=\"error\" style=\"color:red;\">${err}</div>`;\n",
       "      throw err;\n",
       "    }\n",
       "\n",
       "    function displayChart(vegaEmbed) {\n",
       "      vegaEmbed(outputDiv, spec, embedOpt)\n",
       "        .catch(err => showError(`Javascript Error: ${err.message}<br>This usually means there's a typo in your chart specification. See the javascript console for the full traceback.`));\n",
       "    }\n",
       "\n",
       "    if(typeof define === \"function\" && define.amd) {\n",
       "      requirejs.config({paths});\n",
       "      require([\"vega-embed\"], displayChart, err => showError(`Error loading script: ${err.message}`));\n",
       "    } else {\n",
       "      maybeLoadScript(\"vega\", \"5\")\n",
       "        .then(() => maybeLoadScript(\"vega-lite\", \"5.15.1\"))\n",
       "        .then(() => maybeLoadScript(\"vega-embed\", \"6\"))\n",
       "        .catch(showError)\n",
       "        .then(() => displayChart(vegaEmbed));\n",
       "    }\n",
       "  })({\"config\": {\"view\": {\"continuousWidth\": 300, \"continuousHeight\": 300}}, \"data\": {\"name\": \"data-d63dfb91f7922d2f5e05ee3c194e3f3f\"}, \"mark\": {\"type\": \"bar\"}, \"encoding\": {\"x\": {\"field\": \"new_cases\", \"type\": \"quantitative\"}, \"y\": {\"field\": \"continent\", \"type\": \"nominal\"}}, \"height\": {\"step\": 40}, \"width\": 500, \"$schema\": \"https://vega.github.io/schema/vega-lite/v5.15.1.json\", \"datasets\": {\"data-d63dfb91f7922d2f5e05ee3c194e3f3f\": [{\"continent\": \"Africa\", \"total_cases\": 10832139723.0, \"new_cases\": 13115393.0, \"new_cases_smoothed\": 13115216.996, \"total_deaths\": 232323160.0, \"new_deaths\": 259034.0, \"new_deaths_smoothed\": 259034.498, \"total_cases_per_million\": 1762525589.466, \"new_cases_per_million\": 2650074.422, \"new_cases_smoothed_per_million\": 2650063.165, \"total_deaths_per_million\": 15385116.079, \"new_deaths_per_million\": 18075.236, \"new_deaths_smoothed_per_million\": 18072.967, \"reproduction_rate\": 41237.32, \"icu_patients\": 718183.0, \"icu_patients_per_million\": 12083.418, \"hosp_patients\": 5107144.0, \"hosp_patients_per_million\": 85269.86, \"weekly_icu_admissions\": 0.0, \"weekly_icu_admissions_per_million\": 0.0, \"weekly_hosp_admissions\": 521471.0, \"weekly_hosp_admissions_per_million\": 8706.584, \"total_tests\": 22213357604.0, \"new_tests\": 61532819.0, \"total_tests_per_thousand\": 894799.048, \"new_tests_per_thousand\": 2946.482, \"new_tests_smoothed\": 90963215.0, \"new_tests_smoothed_per_thousand\": 5559.793, \"positive_rate\": 1393.3409, \"tests_per_case\": 2064272.6, \"total_vaccinations\": 50385899040.0, \"people_vaccinated\": 29746042083.0, \"people_fully_vaccinated\": 22495658181.0, \"total_boosters\": 2541890034.0, \"new_vaccinations\": 117367074.0, \"new_vaccinations_smoothed\": 851393982.0, \"total_vaccinations_per_hundred\": 189749.09, \"people_vaccinated_per_hundred\": 110599.47, \"people_fully_vaccinated_per_hundred\": 85960.7, \"total_boosters_per_hundred\": 10782.48, \"new_vaccinations_smoothed_per_million\": 37485152.0, \"new_people_vaccinated_smoothed\": 548592009.0, \"new_people_vaccinated_smoothed_per_hundred\": 2247.852, \"stringency_index\": 2131520.7, \"population_density\": 7596863.5, \"median_age\": 1654133.9, \"aged_65_older\": 274425.285, \"aged_70_older\": 176015.49, \"gdp_per_capita\": 399604864.68, \"extreme_poverty\": 1936368.5, \"cardiovasc_death_rate\": 21486974.485, \"diabetes_prevalence\": 421026.14999999997, \"female_smokers\": 128943.5, \"male_smokers\": 1367410.5, \"handwashing_facilities\": 1532962.32, \"hospital_beds_per_thousand\": 83404.7, \"life_expectancy\": 5128240.51, \"human_development_index\": 41160.815, \"population\": 1975233019470.0, \"excess_mortality_cumulative_absolute\": 42119817.38532614, \"excess_mortality_cumulative\": 8492.75, \"excess_mortality\": 9326.78, \"excess_mortality_cumulative_per_million\": 952709.05365136}, {\"continent\": \"Asia\", \"total_cases\": 165400525816.0, \"new_cases\": 300747866.0, \"new_cases_smoothed\": 300745005.001, \"total_deaths\": 1320176142.0, \"new_deaths\": 1634108.0, \"new_deaths_smoothed\": 1633998.176, \"total_cases_per_million\": 4423519934.426, \"new_cases_per_million\": 6737160.69, \"new_cases_smoothed_per_million\": 6737063.536, \"total_deaths_per_million\": 26454942.144, \"new_deaths_per_million\": 31966.469, \"new_deaths_smoothed_per_million\": 31964.664, \"reproduction_rate\": 43268.07, \"icu_patients\": 905834.0, \"icu_patients_per_million\": 29202.33, \"hosp_patients\": 6789095.0, \"hosp_patients_per_million\": 222615.214, \"weekly_icu_admissions\": 76321.0, \"weekly_icu_admissions_per_million\": 5736.733, \"weekly_hosp_admissions\": 6649240.0, \"weekly_hosp_admissions_per_million\": 237873.056, \"total_tests\": 576014519305.0, \"new_tests\": 1798337488.0, \"total_tests_per_thousand\": 16107194.612, \"new_tests_per_thousand\": 60790.714, \"new_tests_smoothed\": 11018265047.0, \"new_tests_smoothed_per_thousand\": 78680.775, \"positive_rate\": 1939.5681, \"tests_per_case\": 220738102.1, \"total_vaccinations\": 4068114813165.0, \"people_vaccinated\": 1215622225872.0, \"people_fully_vaccinated\": 1035761304756.0, \"total_boosters\": 274402350172.0, \"new_vaccinations\": 7550313160.0, \"new_vaccinations_smoothed\": 9068783177.0, \"total_vaccinations_per_hundred\": 2235017.52, \"people_vaccinated_per_hundred\": 931160.67, \"people_fully_vaccinated_per_hundred\": 816869.54, \"total_boosters_per_hundred\": 343800.92, \"new_vaccinations_smoothed_per_million\": 90902915.0, \"new_people_vaccinated_smoothed\": 3062291415.0, \"new_people_vaccinated_smoothed_per_hundred\": 3428.853, \"stringency_index\": 2393659.13, \"population_density\": 52982946.964999996, \"median_age\": 2095888.9, \"aged_65_older\": 436028.562, \"aged_70_older\": 280179.399, \"gdp_per_capita\": 1531452656.727, \"extreme_poverty\": 223713.6, \"cardiovasc_death_rate\": 19680168.846, \"diabetes_prevalence\": 596226.63, \"female_smokers\": 252904.9, \"male_smokers\": 2089380.2, \"handwashing_facilities\": 2602956.713, \"hospital_beds_per_thousand\": 201562.28, \"life_expectancy\": 5108179.18, \"human_development_index\": 48058.712999999996, \"population\": 6539239187090.0, \"excess_mortality_cumulative_absolute\": 47468254.68788824, \"excess_mortality_cumulative\": 15936.13, \"excess_mortality\": 20420.14, \"excess_mortality_cumulative_per_million\": 1572812.8699708}, {\"continent\": \"Europe\", \"total_cases\": 163791406970.0, \"new_cases\": 249783755.0, \"new_cases_smoothed\": 249759452.485, \"total_deaths\": 1754922849.0, \"new_deaths\": 2079783.0, \"new_deaths_smoothed\": 2079688.916, \"total_cases_per_million\": 13478889969.372, \"new_cases_per_million\": 20312238.682, \"new_cases_smoothed_per_million\": 20311649.438, \"total_deaths_per_million\": 110868655.612, \"new_deaths_per_million\": 133416.753, \"new_deaths_smoothed_per_million\": 133411.279, \"reproduction_rate\": 47085.74, \"icu_patients\": 10082572.0, \"icu_patients_per_million\": 427433.104, \"hosp_patients\": 87574537.0, \"hosp_patients_per_million\": 4403901.044, \"weekly_icu_admissions\": 2987848.0, \"weekly_icu_admissions_per_million\": 78799.223, \"weekly_hosp_admissions\": 45561318.0, \"weekly_hosp_admissions_per_million\": 1529367.316, \"total_tests\": 609317604566.0, \"new_tests\": 1954533982.0, \"total_tests_per_thousand\": 47790939.581, \"new_tests_per_thousand\": 157424.835, \"new_tests_smoothed\": 2344724520.0, \"new_tests_smoothed_per_thousand\": 175581.107, \"positive_rate\": 3191.2314, \"tests_per_case\": 1897861.9, \"total_vaccinations\": 705742250005.0, \"people_vaccinated\": 291189670462.0, \"people_fully_vaccinated\": 259659037119.0, \"total_boosters\": 154201464469.0, \"new_vaccinations\": 1265566424.0, \"new_vaccinations_smoothed\": 1562082572.0, \"total_vaccinations_per_hundred\": 3388971.76, \"people_vaccinated_per_hundred\": 1373977.76, \"people_fully_vaccinated_per_hundred\": 1181489.4, \"total_boosters_per_hundred\": 660188.58, \"new_vaccinations_smoothed_per_million\": 103068443.0, \"new_people_vaccinated_smoothed\": 573691458.0, \"new_people_vaccinated_smoothed_per_hundred\": 3688.44, \"stringency_index\": 1887589.35, \"population_density\": 41663938.023, \"median_age\": 2330893.7, \"aged_65_older\": 981764.819, \"aged_70_older\": 635881.434, \"gdp_per_capita\": 1940763285.141, \"extreme_poverty\": 37536.2, \"cardiovasc_death_rate\": 13070840.865, \"diabetes_prevalence\": 399695.83, \"female_smokers\": 1296623.6, \"male_smokers\": 1971991.4, \"handwashing_facilities\": 390378.87, \"hospital_beds_per_thousand\": 307604.214, \"life_expectancy\": 5304114.44, \"human_development_index\": 51187.162, \"population\": 1122323324322.0, \"excess_mortality_cumulative_absolute\": 220049542.84414822, \"excess_mortality_cumulative\": 51207.94, \"excess_mortality\": 59868.51, \"excess_mortality_cumulative_per_million\": 12705729.377607}, {\"continent\": \"North America\", \"total_cases\": 91193846632.0, \"new_cases\": 124498040.0, \"new_cases_smoothed\": 124497848.4, \"total_deaths\": 1403034025.0, \"new_deaths\": 1606145.0, \"new_deaths_smoothed\": 1605110.209, \"total_cases_per_million\": 6221768013.028, \"new_cases_per_million\": 9493358.113, \"new_cases_smoothed_per_million\": 9492768.203, \"total_deaths_per_million\": 47775421.101, \"new_deaths_per_million\": 62211.04, \"new_deaths_smoothed_per_million\": 62191.371, \"reproduction_rate\": 19165.89, \"icu_patients\": 10728351.0, \"icu_patients_per_million\": 42889.677, \"hosp_patients\": 51702609.0, \"hosp_patients_per_million\": 248945.449, \"weekly_icu_admissions\": 0.0, \"weekly_icu_admissions_per_million\": 0.0, \"weekly_hosp_admissions\": 46363888.0, \"weekly_hosp_admissions_per_million\": 137053.742, \"total_tests\": 381789868848.0, \"new_tests\": 1017159368.0, \"total_tests_per_thousand\": 4101852.242, \"new_tests_per_thousand\": 11816.37, \"new_tests_smoothed\": 1019706497.0, \"new_tests_smoothed_per_thousand\": 17261.03, \"positive_rate\": 1625.1374, \"tests_per_case\": 339573.4, \"total_vaccinations\": 533963283631.0, \"people_vaccinated\": 239084927219.0, \"people_fully_vaccinated\": 202570754341.0, \"total_boosters\": 46634832815.0, \"new_vaccinations\": 998301280.0, \"new_vaccinations_smoothed\": 1148268705.0, \"total_vaccinations_per_hundred\": 985429.12, \"people_vaccinated_per_hundred\": 430263.53, \"people_fully_vaccinated_per_hundred\": 369252.25, \"total_boosters_per_hundred\": 96864.98, \"new_vaccinations_smoothed_per_million\": 49556669.0, \"new_people_vaccinated_smoothed\": 458792704.0, \"new_people_vaccinated_smoothed_per_hundred\": 2061.515, \"stringency_index\": 1035444.26, \"population_density\": 13184804.148, \"median_age\": 1270560.3, \"aged_65_older\": 344372.424, \"aged_70_older\": 233031.264, \"gdp_per_capita\": 809868485.019, \"extreme_poverty\": 87121.5, \"cardiovasc_death_rate\": 7096684.081, \"diabetes_prevalence\": 467212.08999999997, \"female_smokers\": 124802.3, \"male_smokers\": 370807.3, \"handwashing_facilities\": 1396306.939, \"hospital_beds_per_thousand\": 73795.56, \"life_expectancy\": 4277701.94, \"human_development_index\": 24082.553, \"population\": 831703379644.0, \"excess_mortality_cumulative_absolute\": 250420755.88644084, \"excess_mortality_cumulative\": 17836.71, \"excess_mortality\": 22243.68, \"excess_mortality_cumulative_per_million\": 2744000.73171963}, {\"continent\": \"Oceania\", \"total_cases\": 7324359444.0, \"new_cases\": 14499548.0, \"new_cases_smoothed\": 14499525.918, \"total_deaths\": 14622330.0, \"new_deaths\": 29996.0, \"new_deaths_smoothed\": 29996.274, \"total_cases_per_million\": 2737762209.447, \"new_cases_per_million\": 5594498.667, \"new_cases_smoothed_per_million\": 5594300.475, \"total_deaths_per_million\": 8476632.253, \"new_deaths_per_million\": 12921.217, \"new_deaths_smoothed_per_million\": 12921.219, \"reproduction_rate\": 4425.14, \"icu_patients\": 95081.0, \"icu_patients_per_million\": 3632.11, \"hosp_patients\": 1768615.0, \"hosp_patients_per_million\": 67562.614, \"weekly_icu_admissions\": 0.0, \"weekly_icu_admissions_per_million\": 0.0, \"weekly_hosp_admissions\": 0.0, \"weekly_hosp_admissions_per_million\": 0.0, \"total_tests\": 24123978485.0, \"new_tests\": 78409471.0, \"total_tests_per_thousand\": 2274064.393, \"new_tests_per_thousand\": 7262.597, \"new_tests_smoothed\": 81371985.0, \"new_tests_smoothed_per_thousand\": 8744.989, \"positive_rate\": 188.2555, \"tests_per_case\": 1606640.1, \"total_vaccinations\": 25266886911.0, \"people_vaccinated\": 7713764498.0, \"people_fully_vaccinated\": 7968658443.0, \"total_boosters\": 4926422891.0, \"new_vaccinations\": 74542164.0, \"new_vaccinations_smoothed\": 82636022.0, \"total_vaccinations_per_hundred\": 252421.03, \"people_vaccinated_per_hundred\": 98100.59, \"people_fully_vaccinated_per_hundred\": 89828.62, \"total_boosters_per_hundred\": 45290.36, \"new_vaccinations_smoothed_per_million\": 32294290.0, \"new_people_vaccinated_smoothed\": 28946969.0, \"new_people_vaccinated_smoothed_per_hundred\": 1226.192, \"stringency_index\": 348205.39, \"population_density\": 3933944.305, \"median_age\": 497076.5, \"aged_65_older\": 133195.45, \"aged_70_older\": 81314.735, \"gdp_per_capita\": 205875643.49, \"extreme_poverty\": 82407.5, \"cardiovasc_death_rate\": 6965832.57, \"diabetes_prevalence\": 416261.75, \"female_smokers\": 248469.0, \"male_smokers\": 488628.0, \"handwashing_facilities\": 198887.38499999998, \"hospital_beds_per_thousand\": 37602.75, \"life_expectancy\": 2346286.9499999997, \"human_development_index\": 11868.065, \"population\": 62378886195.0, \"excess_mortality_cumulative_absolute\": 981321.8371296, \"excess_mortality_cumulative\": -165.09, \"excess_mortality\": 1986.96, \"excess_mortality_cumulative_per_million\": 30690.82865894}, {\"continent\": \"South America\", \"total_cases\": 53704321099.0, \"new_cases\": 68843261.0, \"new_cases_smoothed\": 68805480.618, \"total_deaths\": 1257348870.0, \"new_deaths\": 1359940.0, \"new_deaths_smoothed\": 1359925.744, \"total_cases_per_million\": 1810406882.264, \"new_cases_per_million\": 2564586.64, \"new_cases_smoothed_per_million\": 2564144.105, \"total_deaths_per_million\": 29718686.66, \"new_deaths_per_million\": 33187.727, \"new_deaths_smoothed_per_million\": 33186.509, \"reproduction_rate\": 12126.19, \"icu_patients\": 2934855.0, \"icu_patients_per_million\": 95905.87, \"hosp_patients\": 368769.0, \"hosp_patients_per_million\": 30167.332, \"weekly_icu_admissions\": 400025.0, \"weekly_icu_admissions_per_million\": 20405.537, \"weekly_hosp_admissions\": 1611040.0, \"weekly_hosp_admissions_per_million\": 82180.246, \"total_tests\": 61969482409.0, \"new_tests\": 163548802.0, \"total_tests_per_thousand\": 2204962.904, \"new_tests_per_thousand\": 6512.74, \"new_tests_smoothed\": 226542318.0, \"new_tests_smoothed_per_thousand\": 8009.504, \"positive_rate\": 1078.9014, \"tests_per_case\": 131498.0, \"total_vaccinations\": 409726995519.0, \"people_vaccinated\": 177407891541.0, \"people_fully_vaccinated\": 147547698252.0, \"total_boosters\": 83280753301.0, \"new_vaccinations\": 845304114.0, \"new_vaccinations_smoothed\": 959411175.0, \"total_vaccinations_per_hundred\": 896881.29, \"people_vaccinated_per_hundred\": 375723.93, \"people_fully_vaccinated_per_hundred\": 319900.54, \"total_boosters_per_hundred\": 201097.82, \"new_vaccinations_smoothed_per_million\": 24555878.0, \"new_people_vaccinated_smoothed\": 375027701.0, \"new_people_vaccinated_smoothed_per_hundred\": 1003.272, \"stringency_index\": 646050.18, \"population_density\": 405447.14499999996, \"median_age\": 537340.9, \"aged_65_older\": 137604.946, \"aged_70_older\": 90228.908, \"gdp_per_capita\": 230092270.078, \"extreme_poverty\": 35734.3, \"cardiovasc_death_rate\": 3113866.267, \"diabetes_prevalence\": 129833.98, \"female_smokers\": 136330.4, \"male_smokers\": 273335.8, \"handwashing_facilities\": 548382.4400000001, \"hospital_beds_per_thousand\": 34388.5, \"life_expectancy\": 1471766.05, \"human_development_index\": 12686.337, \"population\": 605085543859.0, \"excess_mortality_cumulative_absolute\": 81734724.3712067, \"excess_mortality_cumulative\": 25205.84, \"excess_mortality\": 24298.72, \"excess_mortality_cumulative_per_million\": 2291753.56918554}]}}, {\"mode\": \"vega-lite\"});\n",
       "</script>"
      ],
      "text/plain": [
       "alt.Chart(...)"
      ]
     },
     "execution_count": 19,
     "metadata": {},
     "output_type": "execute_result"
    }
   ],
   "source": [
    "alt.Chart(data).mark_bar().encode(y='continent', x='new_cases').properties(height=alt.Step(40), width=500)"
   ]
  },
  {
   "cell_type": "markdown",
   "metadata": {
    "colab_type": "text",
    "id": "gdaXDekQf5fS"
   },
   "source": [
    "With a few more specifications, we can give this barchart some tooltips and an aspect ratio of a square:"
   ]
  },
  {
   "cell_type": "code",
   "execution_count": 20,
   "metadata": {
    "colab": {
     "base_uri": "https://localhost:8080/",
     "height": 316
    },
    "colab_type": "code",
    "executionInfo": {
     "elapsed": 1569,
     "status": "ok",
     "timestamp": 1598360699909,
     "user": {
      "displayName": "Marian Dörk",
      "photoUrl": "https://lh3.googleusercontent.com/a-/AOh14GhqiajTdRS6NXELnqFzS3NNM3uxy6nUDGSMCjvAjw=s64",
      "userId": "05248840544598202773"
     },
     "user_tz": -120
    },
    "id": "9jh8ldKpgHk-",
    "outputId": "12616465-702a-484b-fdb3-ed7c69e9daaa",
    "tags": []
   },
   "outputs": [
    {
     "data": {
      "text/html": [
       "\n",
       "<style>\n",
       "  #altair-viz-3342d722c1a1480183bf1b564f93a367.vega-embed {\n",
       "    width: 100%;\n",
       "    display: flex;\n",
       "  }\n",
       "\n",
       "  #altair-viz-3342d722c1a1480183bf1b564f93a367.vega-embed details,\n",
       "  #altair-viz-3342d722c1a1480183bf1b564f93a367.vega-embed details summary {\n",
       "    position: relative;\n",
       "  }\n",
       "</style>\n",
       "<div id=\"altair-viz-3342d722c1a1480183bf1b564f93a367\"></div>\n",
       "<script type=\"text/javascript\">\n",
       "  var VEGA_DEBUG = (typeof VEGA_DEBUG == \"undefined\") ? {} : VEGA_DEBUG;\n",
       "  (function(spec, embedOpt){\n",
       "    let outputDiv = document.currentScript.previousElementSibling;\n",
       "    if (outputDiv.id !== \"altair-viz-3342d722c1a1480183bf1b564f93a367\") {\n",
       "      outputDiv = document.getElementById(\"altair-viz-3342d722c1a1480183bf1b564f93a367\");\n",
       "    }\n",
       "    const paths = {\n",
       "      \"vega\": \"https://cdn.jsdelivr.net/npm/vega@5?noext\",\n",
       "      \"vega-lib\": \"https://cdn.jsdelivr.net/npm/vega-lib?noext\",\n",
       "      \"vega-lite\": \"https://cdn.jsdelivr.net/npm/vega-lite@5.15.1?noext\",\n",
       "      \"vega-embed\": \"https://cdn.jsdelivr.net/npm/vega-embed@6?noext\",\n",
       "    };\n",
       "\n",
       "    function maybeLoadScript(lib, version) {\n",
       "      var key = `${lib.replace(\"-\", \"\")}_version`;\n",
       "      return (VEGA_DEBUG[key] == version) ?\n",
       "        Promise.resolve(paths[lib]) :\n",
       "        new Promise(function(resolve, reject) {\n",
       "          var s = document.createElement('script');\n",
       "          document.getElementsByTagName(\"head\")[0].appendChild(s);\n",
       "          s.async = true;\n",
       "          s.onload = () => {\n",
       "            VEGA_DEBUG[key] = version;\n",
       "            return resolve(paths[lib]);\n",
       "          };\n",
       "          s.onerror = () => reject(`Error loading script: ${paths[lib]}`);\n",
       "          s.src = paths[lib];\n",
       "        });\n",
       "    }\n",
       "\n",
       "    function showError(err) {\n",
       "      outputDiv.innerHTML = `<div class=\"error\" style=\"color:red;\">${err}</div>`;\n",
       "      throw err;\n",
       "    }\n",
       "\n",
       "    function displayChart(vegaEmbed) {\n",
       "      vegaEmbed(outputDiv, spec, embedOpt)\n",
       "        .catch(err => showError(`Javascript Error: ${err.message}<br>This usually means there's a typo in your chart specification. See the javascript console for the full traceback.`));\n",
       "    }\n",
       "\n",
       "    if(typeof define === \"function\" && define.amd) {\n",
       "      requirejs.config({paths});\n",
       "      require([\"vega-embed\"], displayChart, err => showError(`Error loading script: ${err.message}`));\n",
       "    } else {\n",
       "      maybeLoadScript(\"vega\", \"5\")\n",
       "        .then(() => maybeLoadScript(\"vega-lite\", \"5.15.1\"))\n",
       "        .then(() => maybeLoadScript(\"vega-embed\", \"6\"))\n",
       "        .catch(showError)\n",
       "        .then(() => displayChart(vegaEmbed));\n",
       "    }\n",
       "  })({\"config\": {\"view\": {\"continuousWidth\": 300, \"continuousHeight\": 300}}, \"data\": {\"name\": \"data-d63dfb91f7922d2f5e05ee3c194e3f3f\"}, \"mark\": {\"type\": \"bar\"}, \"encoding\": {\"tooltip\": [{\"field\": \"new_deaths\", \"type\": \"quantitative\"}, {\"field\": \"new_cases_per_million\", \"type\": \"quantitative\"}], \"x\": {\"field\": \"continent\", \"type\": \"nominal\"}, \"y\": {\"field\": \"new_cases\", \"type\": \"quantitative\"}}, \"height\": 200, \"width\": 200, \"$schema\": \"https://vega.github.io/schema/vega-lite/v5.15.1.json\", \"datasets\": {\"data-d63dfb91f7922d2f5e05ee3c194e3f3f\": [{\"continent\": \"Africa\", \"total_cases\": 10832139723.0, \"new_cases\": 13115393.0, \"new_cases_smoothed\": 13115216.996, \"total_deaths\": 232323160.0, \"new_deaths\": 259034.0, \"new_deaths_smoothed\": 259034.498, \"total_cases_per_million\": 1762525589.466, \"new_cases_per_million\": 2650074.422, \"new_cases_smoothed_per_million\": 2650063.165, \"total_deaths_per_million\": 15385116.079, \"new_deaths_per_million\": 18075.236, \"new_deaths_smoothed_per_million\": 18072.967, \"reproduction_rate\": 41237.32, \"icu_patients\": 718183.0, \"icu_patients_per_million\": 12083.418, \"hosp_patients\": 5107144.0, \"hosp_patients_per_million\": 85269.86, \"weekly_icu_admissions\": 0.0, \"weekly_icu_admissions_per_million\": 0.0, \"weekly_hosp_admissions\": 521471.0, \"weekly_hosp_admissions_per_million\": 8706.584, \"total_tests\": 22213357604.0, \"new_tests\": 61532819.0, \"total_tests_per_thousand\": 894799.048, \"new_tests_per_thousand\": 2946.482, \"new_tests_smoothed\": 90963215.0, \"new_tests_smoothed_per_thousand\": 5559.793, \"positive_rate\": 1393.3409, \"tests_per_case\": 2064272.6, \"total_vaccinations\": 50385899040.0, \"people_vaccinated\": 29746042083.0, \"people_fully_vaccinated\": 22495658181.0, \"total_boosters\": 2541890034.0, \"new_vaccinations\": 117367074.0, \"new_vaccinations_smoothed\": 851393982.0, \"total_vaccinations_per_hundred\": 189749.09, \"people_vaccinated_per_hundred\": 110599.47, \"people_fully_vaccinated_per_hundred\": 85960.7, \"total_boosters_per_hundred\": 10782.48, \"new_vaccinations_smoothed_per_million\": 37485152.0, \"new_people_vaccinated_smoothed\": 548592009.0, \"new_people_vaccinated_smoothed_per_hundred\": 2247.852, \"stringency_index\": 2131520.7, \"population_density\": 7596863.5, \"median_age\": 1654133.9, \"aged_65_older\": 274425.285, \"aged_70_older\": 176015.49, \"gdp_per_capita\": 399604864.68, \"extreme_poverty\": 1936368.5, \"cardiovasc_death_rate\": 21486974.485, \"diabetes_prevalence\": 421026.14999999997, \"female_smokers\": 128943.5, \"male_smokers\": 1367410.5, \"handwashing_facilities\": 1532962.32, \"hospital_beds_per_thousand\": 83404.7, \"life_expectancy\": 5128240.51, \"human_development_index\": 41160.815, \"population\": 1975233019470.0, \"excess_mortality_cumulative_absolute\": 42119817.38532614, \"excess_mortality_cumulative\": 8492.75, \"excess_mortality\": 9326.78, \"excess_mortality_cumulative_per_million\": 952709.05365136}, {\"continent\": \"Asia\", \"total_cases\": 165400525816.0, \"new_cases\": 300747866.0, \"new_cases_smoothed\": 300745005.001, \"total_deaths\": 1320176142.0, \"new_deaths\": 1634108.0, \"new_deaths_smoothed\": 1633998.176, \"total_cases_per_million\": 4423519934.426, \"new_cases_per_million\": 6737160.69, \"new_cases_smoothed_per_million\": 6737063.536, \"total_deaths_per_million\": 26454942.144, \"new_deaths_per_million\": 31966.469, \"new_deaths_smoothed_per_million\": 31964.664, \"reproduction_rate\": 43268.07, \"icu_patients\": 905834.0, \"icu_patients_per_million\": 29202.33, \"hosp_patients\": 6789095.0, \"hosp_patients_per_million\": 222615.214, \"weekly_icu_admissions\": 76321.0, \"weekly_icu_admissions_per_million\": 5736.733, \"weekly_hosp_admissions\": 6649240.0, \"weekly_hosp_admissions_per_million\": 237873.056, \"total_tests\": 576014519305.0, \"new_tests\": 1798337488.0, \"total_tests_per_thousand\": 16107194.612, \"new_tests_per_thousand\": 60790.714, \"new_tests_smoothed\": 11018265047.0, \"new_tests_smoothed_per_thousand\": 78680.775, \"positive_rate\": 1939.5681, \"tests_per_case\": 220738102.1, \"total_vaccinations\": 4068114813165.0, \"people_vaccinated\": 1215622225872.0, \"people_fully_vaccinated\": 1035761304756.0, \"total_boosters\": 274402350172.0, \"new_vaccinations\": 7550313160.0, \"new_vaccinations_smoothed\": 9068783177.0, \"total_vaccinations_per_hundred\": 2235017.52, \"people_vaccinated_per_hundred\": 931160.67, \"people_fully_vaccinated_per_hundred\": 816869.54, \"total_boosters_per_hundred\": 343800.92, \"new_vaccinations_smoothed_per_million\": 90902915.0, \"new_people_vaccinated_smoothed\": 3062291415.0, \"new_people_vaccinated_smoothed_per_hundred\": 3428.853, \"stringency_index\": 2393659.13, \"population_density\": 52982946.964999996, \"median_age\": 2095888.9, \"aged_65_older\": 436028.562, \"aged_70_older\": 280179.399, \"gdp_per_capita\": 1531452656.727, \"extreme_poverty\": 223713.6, \"cardiovasc_death_rate\": 19680168.846, \"diabetes_prevalence\": 596226.63, \"female_smokers\": 252904.9, \"male_smokers\": 2089380.2, \"handwashing_facilities\": 2602956.713, \"hospital_beds_per_thousand\": 201562.28, \"life_expectancy\": 5108179.18, \"human_development_index\": 48058.712999999996, \"population\": 6539239187090.0, \"excess_mortality_cumulative_absolute\": 47468254.68788824, \"excess_mortality_cumulative\": 15936.13, \"excess_mortality\": 20420.14, \"excess_mortality_cumulative_per_million\": 1572812.8699708}, {\"continent\": \"Europe\", \"total_cases\": 163791406970.0, \"new_cases\": 249783755.0, \"new_cases_smoothed\": 249759452.485, \"total_deaths\": 1754922849.0, \"new_deaths\": 2079783.0, \"new_deaths_smoothed\": 2079688.916, \"total_cases_per_million\": 13478889969.372, \"new_cases_per_million\": 20312238.682, \"new_cases_smoothed_per_million\": 20311649.438, \"total_deaths_per_million\": 110868655.612, \"new_deaths_per_million\": 133416.753, \"new_deaths_smoothed_per_million\": 133411.279, \"reproduction_rate\": 47085.74, \"icu_patients\": 10082572.0, \"icu_patients_per_million\": 427433.104, \"hosp_patients\": 87574537.0, \"hosp_patients_per_million\": 4403901.044, \"weekly_icu_admissions\": 2987848.0, \"weekly_icu_admissions_per_million\": 78799.223, \"weekly_hosp_admissions\": 45561318.0, \"weekly_hosp_admissions_per_million\": 1529367.316, \"total_tests\": 609317604566.0, \"new_tests\": 1954533982.0, \"total_tests_per_thousand\": 47790939.581, \"new_tests_per_thousand\": 157424.835, \"new_tests_smoothed\": 2344724520.0, \"new_tests_smoothed_per_thousand\": 175581.107, \"positive_rate\": 3191.2314, \"tests_per_case\": 1897861.9, \"total_vaccinations\": 705742250005.0, \"people_vaccinated\": 291189670462.0, \"people_fully_vaccinated\": 259659037119.0, \"total_boosters\": 154201464469.0, \"new_vaccinations\": 1265566424.0, \"new_vaccinations_smoothed\": 1562082572.0, \"total_vaccinations_per_hundred\": 3388971.76, \"people_vaccinated_per_hundred\": 1373977.76, \"people_fully_vaccinated_per_hundred\": 1181489.4, \"total_boosters_per_hundred\": 660188.58, \"new_vaccinations_smoothed_per_million\": 103068443.0, \"new_people_vaccinated_smoothed\": 573691458.0, \"new_people_vaccinated_smoothed_per_hundred\": 3688.44, \"stringency_index\": 1887589.35, \"population_density\": 41663938.023, \"median_age\": 2330893.7, \"aged_65_older\": 981764.819, \"aged_70_older\": 635881.434, \"gdp_per_capita\": 1940763285.141, \"extreme_poverty\": 37536.2, \"cardiovasc_death_rate\": 13070840.865, \"diabetes_prevalence\": 399695.83, \"female_smokers\": 1296623.6, \"male_smokers\": 1971991.4, \"handwashing_facilities\": 390378.87, \"hospital_beds_per_thousand\": 307604.214, \"life_expectancy\": 5304114.44, \"human_development_index\": 51187.162, \"population\": 1122323324322.0, \"excess_mortality_cumulative_absolute\": 220049542.84414822, \"excess_mortality_cumulative\": 51207.94, \"excess_mortality\": 59868.51, \"excess_mortality_cumulative_per_million\": 12705729.377607}, {\"continent\": \"North America\", \"total_cases\": 91193846632.0, \"new_cases\": 124498040.0, \"new_cases_smoothed\": 124497848.4, \"total_deaths\": 1403034025.0, \"new_deaths\": 1606145.0, \"new_deaths_smoothed\": 1605110.209, \"total_cases_per_million\": 6221768013.028, \"new_cases_per_million\": 9493358.113, \"new_cases_smoothed_per_million\": 9492768.203, \"total_deaths_per_million\": 47775421.101, \"new_deaths_per_million\": 62211.04, \"new_deaths_smoothed_per_million\": 62191.371, \"reproduction_rate\": 19165.89, \"icu_patients\": 10728351.0, \"icu_patients_per_million\": 42889.677, \"hosp_patients\": 51702609.0, \"hosp_patients_per_million\": 248945.449, \"weekly_icu_admissions\": 0.0, \"weekly_icu_admissions_per_million\": 0.0, \"weekly_hosp_admissions\": 46363888.0, \"weekly_hosp_admissions_per_million\": 137053.742, \"total_tests\": 381789868848.0, \"new_tests\": 1017159368.0, \"total_tests_per_thousand\": 4101852.242, \"new_tests_per_thousand\": 11816.37, \"new_tests_smoothed\": 1019706497.0, \"new_tests_smoothed_per_thousand\": 17261.03, \"positive_rate\": 1625.1374, \"tests_per_case\": 339573.4, \"total_vaccinations\": 533963283631.0, \"people_vaccinated\": 239084927219.0, \"people_fully_vaccinated\": 202570754341.0, \"total_boosters\": 46634832815.0, \"new_vaccinations\": 998301280.0, \"new_vaccinations_smoothed\": 1148268705.0, \"total_vaccinations_per_hundred\": 985429.12, \"people_vaccinated_per_hundred\": 430263.53, \"people_fully_vaccinated_per_hundred\": 369252.25, \"total_boosters_per_hundred\": 96864.98, \"new_vaccinations_smoothed_per_million\": 49556669.0, \"new_people_vaccinated_smoothed\": 458792704.0, \"new_people_vaccinated_smoothed_per_hundred\": 2061.515, \"stringency_index\": 1035444.26, \"population_density\": 13184804.148, \"median_age\": 1270560.3, \"aged_65_older\": 344372.424, \"aged_70_older\": 233031.264, \"gdp_per_capita\": 809868485.019, \"extreme_poverty\": 87121.5, \"cardiovasc_death_rate\": 7096684.081, \"diabetes_prevalence\": 467212.08999999997, \"female_smokers\": 124802.3, \"male_smokers\": 370807.3, \"handwashing_facilities\": 1396306.939, \"hospital_beds_per_thousand\": 73795.56, \"life_expectancy\": 4277701.94, \"human_development_index\": 24082.553, \"population\": 831703379644.0, \"excess_mortality_cumulative_absolute\": 250420755.88644084, \"excess_mortality_cumulative\": 17836.71, \"excess_mortality\": 22243.68, \"excess_mortality_cumulative_per_million\": 2744000.73171963}, {\"continent\": \"Oceania\", \"total_cases\": 7324359444.0, \"new_cases\": 14499548.0, \"new_cases_smoothed\": 14499525.918, \"total_deaths\": 14622330.0, \"new_deaths\": 29996.0, \"new_deaths_smoothed\": 29996.274, \"total_cases_per_million\": 2737762209.447, \"new_cases_per_million\": 5594498.667, \"new_cases_smoothed_per_million\": 5594300.475, \"total_deaths_per_million\": 8476632.253, \"new_deaths_per_million\": 12921.217, \"new_deaths_smoothed_per_million\": 12921.219, \"reproduction_rate\": 4425.14, \"icu_patients\": 95081.0, \"icu_patients_per_million\": 3632.11, \"hosp_patients\": 1768615.0, \"hosp_patients_per_million\": 67562.614, \"weekly_icu_admissions\": 0.0, \"weekly_icu_admissions_per_million\": 0.0, \"weekly_hosp_admissions\": 0.0, \"weekly_hosp_admissions_per_million\": 0.0, \"total_tests\": 24123978485.0, \"new_tests\": 78409471.0, \"total_tests_per_thousand\": 2274064.393, \"new_tests_per_thousand\": 7262.597, \"new_tests_smoothed\": 81371985.0, \"new_tests_smoothed_per_thousand\": 8744.989, \"positive_rate\": 188.2555, \"tests_per_case\": 1606640.1, \"total_vaccinations\": 25266886911.0, \"people_vaccinated\": 7713764498.0, \"people_fully_vaccinated\": 7968658443.0, \"total_boosters\": 4926422891.0, \"new_vaccinations\": 74542164.0, \"new_vaccinations_smoothed\": 82636022.0, \"total_vaccinations_per_hundred\": 252421.03, \"people_vaccinated_per_hundred\": 98100.59, \"people_fully_vaccinated_per_hundred\": 89828.62, \"total_boosters_per_hundred\": 45290.36, \"new_vaccinations_smoothed_per_million\": 32294290.0, \"new_people_vaccinated_smoothed\": 28946969.0, \"new_people_vaccinated_smoothed_per_hundred\": 1226.192, \"stringency_index\": 348205.39, \"population_density\": 3933944.305, \"median_age\": 497076.5, \"aged_65_older\": 133195.45, \"aged_70_older\": 81314.735, \"gdp_per_capita\": 205875643.49, \"extreme_poverty\": 82407.5, \"cardiovasc_death_rate\": 6965832.57, \"diabetes_prevalence\": 416261.75, \"female_smokers\": 248469.0, \"male_smokers\": 488628.0, \"handwashing_facilities\": 198887.38499999998, \"hospital_beds_per_thousand\": 37602.75, \"life_expectancy\": 2346286.9499999997, \"human_development_index\": 11868.065, \"population\": 62378886195.0, \"excess_mortality_cumulative_absolute\": 981321.8371296, \"excess_mortality_cumulative\": -165.09, \"excess_mortality\": 1986.96, \"excess_mortality_cumulative_per_million\": 30690.82865894}, {\"continent\": \"South America\", \"total_cases\": 53704321099.0, \"new_cases\": 68843261.0, \"new_cases_smoothed\": 68805480.618, \"total_deaths\": 1257348870.0, \"new_deaths\": 1359940.0, \"new_deaths_smoothed\": 1359925.744, \"total_cases_per_million\": 1810406882.264, \"new_cases_per_million\": 2564586.64, \"new_cases_smoothed_per_million\": 2564144.105, \"total_deaths_per_million\": 29718686.66, \"new_deaths_per_million\": 33187.727, \"new_deaths_smoothed_per_million\": 33186.509, \"reproduction_rate\": 12126.19, \"icu_patients\": 2934855.0, \"icu_patients_per_million\": 95905.87, \"hosp_patients\": 368769.0, \"hosp_patients_per_million\": 30167.332, \"weekly_icu_admissions\": 400025.0, \"weekly_icu_admissions_per_million\": 20405.537, \"weekly_hosp_admissions\": 1611040.0, \"weekly_hosp_admissions_per_million\": 82180.246, \"total_tests\": 61969482409.0, \"new_tests\": 163548802.0, \"total_tests_per_thousand\": 2204962.904, \"new_tests_per_thousand\": 6512.74, \"new_tests_smoothed\": 226542318.0, \"new_tests_smoothed_per_thousand\": 8009.504, \"positive_rate\": 1078.9014, \"tests_per_case\": 131498.0, \"total_vaccinations\": 409726995519.0, \"people_vaccinated\": 177407891541.0, \"people_fully_vaccinated\": 147547698252.0, \"total_boosters\": 83280753301.0, \"new_vaccinations\": 845304114.0, \"new_vaccinations_smoothed\": 959411175.0, \"total_vaccinations_per_hundred\": 896881.29, \"people_vaccinated_per_hundred\": 375723.93, \"people_fully_vaccinated_per_hundred\": 319900.54, \"total_boosters_per_hundred\": 201097.82, \"new_vaccinations_smoothed_per_million\": 24555878.0, \"new_people_vaccinated_smoothed\": 375027701.0, \"new_people_vaccinated_smoothed_per_hundred\": 1003.272, \"stringency_index\": 646050.18, \"population_density\": 405447.14499999996, \"median_age\": 537340.9, \"aged_65_older\": 137604.946, \"aged_70_older\": 90228.908, \"gdp_per_capita\": 230092270.078, \"extreme_poverty\": 35734.3, \"cardiovasc_death_rate\": 3113866.267, \"diabetes_prevalence\": 129833.98, \"female_smokers\": 136330.4, \"male_smokers\": 273335.8, \"handwashing_facilities\": 548382.4400000001, \"hospital_beds_per_thousand\": 34388.5, \"life_expectancy\": 1471766.05, \"human_development_index\": 12686.337, \"population\": 605085543859.0, \"excess_mortality_cumulative_absolute\": 81734724.3712067, \"excess_mortality_cumulative\": 25205.84, \"excess_mortality\": 24298.72, \"excess_mortality_cumulative_per_million\": 2291753.56918554}]}}, {\"mode\": \"vega-lite\"});\n",
       "</script>"
      ],
      "text/plain": [
       "alt.Chart(...)"
      ]
     },
     "execution_count": 20,
     "metadata": {},
     "output_type": "execute_result"
    }
   ],
   "source": [
    "alt.Chart(data).mark_bar().encode(\n",
    "    x='continent', \n",
    "    y='new_cases',\n",
    "    tooltip=['new_deaths', 'new_cases_per_million']\n",
    ").properties(\n",
    "    width=200,\n",
    "    height=200\n",
    ")"
   ]
  },
  {
   "cell_type": "markdown",
   "metadata": {
    "colab_type": "text",
    "id": "OQ-vH5EFGZTI"
   },
   "source": [
    "This is admittedly still a very simple chart, but it gets the job done.\n",
    "\n",
    "Altair can be used to create a wide range of static and interactive visualizations—have a look at their [gallery](https://altair-viz.github.io/gallery/index.html) for some inspiration!"
   ]
  },
  {
   "cell_type": "markdown",
   "metadata": {
    "colab_type": "text",
    "id": "PyJgW6U-DtiX"
   },
   "source": [
    "## Sources\n",
    "- [Pandas Tutorial: DataFrames in Python - DataCamp](https://www.datacamp.com/community/tutorials/pandas-tutorial-dataframe-python)\n",
    "- [Examining Data Using Pandas | Linux Journal](https://www.linuxjournal.com/content/examining-data-using-pandas)"
   ]
  }
 ],
 "metadata": {
  "colab": {
   "collapsed_sections": [],
   "name": "infovis1start.ipynb",
   "provenance": [],
   "toc_visible": true
  },
  "kernelspec": {
   "display_name": "Python 3 (ipykernel)",
   "language": "python",
   "name": "python3"
  },
  "language_info": {
   "codemirror_mode": {
    "name": "ipython",
    "version": 3
   },
   "file_extension": ".py",
   "mimetype": "text/x-python",
   "name": "python",
   "nbconvert_exporter": "python",
   "pygments_lexer": "ipython3",
   "version": "3.11.3"
  },
  "nteract": {
   "version": "0.22.0"
  }
 },
 "nbformat": 4,
 "nbformat_minor": 4
}
